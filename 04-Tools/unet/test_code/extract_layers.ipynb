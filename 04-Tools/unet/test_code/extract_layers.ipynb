{
 "cells": [
  {
   "cell_type": "code",
   "execution_count": 1,
   "metadata": {},
   "outputs": [
    {
     "name": "stdout",
     "output_type": "stream",
     "text": [
      "Using matplotlib backend: Qt5Agg\n",
      "/home/meglio/Bureau/git/Tools/unet\n"
     ]
    }
   ],
   "source": [
    "%matplotlib\n",
    "import os, sys\n",
    "op = os.path\n",
    "opd, opb, opj = op.dirname, op.basename, op.join\n",
    "opa = op.abspath\n",
    "import inspect as insp\n",
    "from pathlib import Path\n",
    "##\n",
    "\n",
    "currdir = opd(opa(insp.getfile(insp.currentframe()))) # current dir at level above.. \n",
    "parentdir = opd(currdir)\n",
    "sys.path.insert(0,parentdir) \n",
    "print(parentdir)\n",
    "\n",
    "from utils.sep_tif_layers import SEP_TIF_LAYERS"
   ]
  },
  {
   "cell_type": "code",
   "execution_count": 2,
   "metadata": {},
   "outputs": [],
   "source": [
    "#dir0 = \"C:\\\\Users\\\\Lionel\\\\Desktop\\\\data\\\\data_Celine\\\\Exp79_09042019\\\\GrowthRate2020190904_43544 PM_20190905_43347 AM\"\n",
    "#f0 = 'GrowthRate2020190904_43544 PM_f0000_t000001.tif'\n",
    "#dir0 = '/media/meglio/E320-769E/data_Celine/data_3nov2020/exp102/Image_Stacks'\n",
    "#f0 = 'BF_f0000.tif'\n",
    "#dir0 = '/media/meglio/E320-769E/data_Celine/data_3nov2020/Exp74_07232019/GrowthRate420190723_52103 PM_20190724_51918 AM'\n",
    "#f0 = 'GrowthRate420190723_52103 PM_f0000_t000000.tif'\n",
    "dir0 = '/media/meglio/E320-769E/data_Celine/data_3nov2020/Exp87_101619/GrowthRate520191016_84027 PM_20191017_83859 AM'\n",
    "f0 = 'GrowthRate520191016_84027 PM_f0000_t000000.tif'\n",
    "addr0 = Path(dir0) / f0"
   ]
  },
  {
   "cell_type": "code",
   "execution_count": 3,
   "metadata": {},
   "outputs": [],
   "source": [
    "stl = SEP_TIF_LAYERS(addr0)"
   ]
  },
  {
   "cell_type": "code",
   "execution_count": 4,
   "metadata": {
    "scrolled": false
   },
   "outputs": [
    {
     "name": "stdout",
     "output_type": "stream",
     "text": [
      "self.name_file  GrowthRate520191016_84027 PM_f0000_t000000.tif\n"
     ]
    }
   ],
   "source": [
    "stl.list_layers = ['BF','fluo1','fluo2']\n",
    "stl.extract_all_layers()"
   ]
  },
  {
   "cell_type": "code",
   "execution_count": null,
   "metadata": {},
   "outputs": [],
   "source": [
    "for i in range(1,10,2): print(i)"
   ]
  },
  {
   "cell_type": "code",
   "execution_count": null,
   "metadata": {},
   "outputs": [],
   "source": []
  }
 ],
 "metadata": {
  "kernelspec": {
   "display_name": "Python 3",
   "language": "python",
   "name": "python3"
  },
  "language_info": {
   "codemirror_mode": {
    "name": "ipython",
    "version": 3
   },
   "file_extension": ".py",
   "mimetype": "text/x-python",
   "name": "python",
   "nbconvert_exporter": "python",
   "pygments_lexer": "ipython3",
   "version": "3.7.6"
  }
 },
 "nbformat": 4,
 "nbformat_minor": 4
}
