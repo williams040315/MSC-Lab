{
 "cells": [
  {
   "cell_type": "code",
   "execution_count": null,
   "metadata": {},
   "outputs": [],
   "source": [
    "import os, sys, re, glob\n",
    "import cv2\n",
    "\n",
    "def take_num_frame_png(elem):\n",
    "    '''\n",
    "    for png pictures\n",
    "    '''\n",
    "    return int(re.findall('\\d+', elem)[0])\n",
    "    \n",
    "def make_list_imgs_for_video(debug=1):\n",
    "    '''\n",
    "    '''\n",
    "    folder = 'video_sim_track'\n",
    "    ll = os.listdir(folder)\n",
    "    list_imgs_sorted = sorted(ll, key = lambda i: take_num_frame_png(i)) #\n",
    "    if debug>0:\n",
    "        print(f'## ll is {ll}')\n",
    "        print(f'## list_imgs_sorted is {list_imgs_sorted}')\n",
    "    list_imgs_vid = []\n",
    "    for f in list_imgs_sorted:\n",
    "        img = cv2.imread(opj(folder,f))\n",
    "        list_imgs_vid.append(img)\n",
    "    return list_imgs_vid\n",
    "\n",
    "def create_video(rem_imgs=False):\n",
    "    '''\n",
    "    Create a video\n",
    "    '''\n",
    "    list_imgs_vid = make_list_imgs_for_video()\n",
    "    ##\n",
    "    addr_movie = opj('video_sim_track', 'simu_track')\n",
    "    out = cv2.VideoWriter(f'{addr_movie}.avi', cv2.VideoWriter_fourcc(*'DIVX'), 15, (432,288))\n",
    "    print(f\"### len(self.list_imgs_vid) is {len(list_imgs_vid)}\")\n",
    "    for img in list_imgs_vid:\n",
    "        out.write(img)\n",
    "    out.release()\n",
    "    if rem_imgs:\n",
    "        for img in glob.glob(f'{addr_movie}/*.png'):\n",
    "            os.remove(img)"
   ]
  },
  {
   "cell_type": "code",
   "execution_count": null,
   "metadata": {},
   "outputs": [],
   "source": [
    "create_video()"
   ]
  }
 ],
 "metadata": {
  "kernelspec": {
   "display_name": "Python 3",
   "language": "python",
   "name": "python3"
  },
  "language_info": {
   "codemirror_mode": {
    "name": "ipython",
    "version": 3
   },
   "file_extension": ".py",
   "mimetype": "text/x-python",
   "name": "python",
   "nbconvert_exporter": "python",
   "pygments_lexer": "ipython3",
   "version": "3.7.6"
  }
 },
 "nbformat": 4,
 "nbformat_minor": 4
}
