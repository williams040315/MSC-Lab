{
 "cells": [
  {
   "cell_type": "code",
   "execution_count": 1,
   "metadata": {
    "scrolled": true
   },
   "outputs": [
    {
     "name": "stdout",
     "output_type": "stream",
     "text": [
      "Using matplotlib backend: Qt5Agg\n"
     ]
    }
   ],
   "source": [
    "%matplotlib\n",
    "from pathlib import Path\n",
    "#\n",
    "from matplotlib import pyplot as plt\n",
    "from PIL import Image\n",
    "#\n",
    "import numpy as np\n",
    "import cv2"
   ]
  },
  {
   "cell_type": "markdown",
   "metadata": {},
   "source": [
    "## Superimpose pred thresholded"
   ]
  },
  {
   "cell_type": "code",
   "execution_count": 189,
   "metadata": {},
   "outputs": [
    {
     "data": {
      "text/plain": [
       "<matplotlib.image.AxesImage at 0x7f901bedde50>"
      ]
     },
     "execution_count": 189,
     "metadata": {},
     "output_type": "execute_result"
    }
   ],
   "source": [
    "fold = 'C1-P5' #  # C2-P1 # complet pr ep20 C1-P5\n",
    "nb_epochs = 20\n",
    "frame_nb = 199\n",
    "thresh_level = 23\n",
    "addr = f'epxx_20x_thresh/ep{nb_epochs}_20x/{fold}/frame{frame_nb}'\n",
    "img = cv2.imread(addr + '.png')\n",
    "img_bf = cv2.imread(addr + '.tiff')\n",
    "imgray = cv2.cvtColor(img, cv2.COLOR_BGR2GRAY)             # self.img_mask\n",
    "ret, thresh = cv2.threshold(imgray, thresh_level, 255, 0)\n",
    "contours, hierarchy = cv2.findContours(thresh, cv2.RETR_TREE, cv2.CHAIN_APPROX_SIMPLE)[-2:]\n",
    "img = cv2.drawContours( img_bf, contours, -1, (255, 255, 255), cv2.FILLED ) #  [contours[6]]\n",
    "plt.imshow(img)"
   ]
  },
  {
   "cell_type": "code",
   "execution_count": 191,
   "metadata": {},
   "outputs": [
    {
     "name": "stdout",
     "output_type": "stream",
     "text": [
      "for 57 area is 209229.5, estimated number of cells is 9415\n",
      "for 112 area is 104.0, estimated number of cells is 4\n",
      "for 185 area is 131.0, estimated number of cells is 5\n",
      "for 216 area is 243.5, estimated number of cells is 10\n",
      "for 226 area is 144.0, estimated number of cells is 6\n",
      "for 821 area is 109.0, estimated number of cells is 4\n",
      "nbcell tot = 9444\n"
     ]
    },
    {
     "data": {
      "text/plain": [
       "<matplotlib.image.AxesImage at 0x7f901bcd9690>"
      ]
     },
     "execution_count": 191,
     "metadata": {},
     "output_type": "execute_result"
    }
   ],
   "source": [
    "img_bf = cv2.imread(addr + '.tiff')\n",
    "img = img_bf\n",
    "nbcells_tot = 0\n",
    "for i,c in enumerate(contours):\n",
    "    s = cv2.contourArea(c)\n",
    "    area0 = 100\n",
    "    step = 2000000\n",
    "    if area0 <  s  < area0+step:\n",
    "        nbcells = int(s*0.045)\n",
    "        nbcells_tot += nbcells\n",
    "        print(f'for {i} area is {s}, estimated number of cells is {nbcells}')\n",
    "        img = cv2.drawContours( img, [c], -1, (255, 255, 255), cv2.FILLED ) #  [contours[6]]\n",
    "print(f\"nbcell tot = {nbcells_tot}\")\n",
    "plt.imshow(img)"
   ]
  },
  {
   "cell_type": "code",
   "execution_count": null,
   "metadata": {},
   "outputs": [],
   "source": []
  },
  {
   "cell_type": "markdown",
   "metadata": {},
   "source": [
    "## improve training with C2-P1 pred"
   ]
  },
  {
   "cell_type": "code",
   "execution_count": 110,
   "metadata": {},
   "outputs": [],
   "source": [
    "addr_extr = '/media/sdata/docs/boulot/tests/improving_20x_training_set/ep20_20x_test_movie_upload_image-C2-P1-BF_17-11-2020-13-05'\n",
    "ext = 'png'\n",
    "\n",
    "frame_nb = 190\n",
    "thresh_level = 31\n",
    "addr = Path(addr_extr) / f'frame{frame_nb}.{ext}'"
   ]
  },
  {
   "cell_type": "code",
   "execution_count": 111,
   "metadata": {},
   "outputs": [],
   "source": [
    "img_black = np.zeros( ( 512,512 ), np.uint8  )\n",
    "img = cv2.imread(str(addr))\n",
    "imgray = cv2.cvtColor(img, cv2.COLOR_BGR2GRAY)             # self.img_mask\n",
    "ret, thresh = cv2.threshold(imgray, thresh_level, 255, 0)\n",
    "contours, hierarchy = cv2.findContours(thresh, cv2.RETR_TREE, cv2.CHAIN_APPROX_SIMPLE)[-2:]\n",
    "img = cv2.drawContours( img_black, contours, -1, (255, 255, 255), cv2.FILLED )\n",
    "img = cv2.cvtColor(img,cv2.COLOR_GRAY2RGB)  # back to color"
   ]
  },
  {
   "cell_type": "code",
   "execution_count": 112,
   "metadata": {},
   "outputs": [
    {
     "data": {
      "text/plain": [
       "<matplotlib.image.AxesImage at 0x7f904d671450>"
      ]
     },
     "execution_count": 112,
     "metadata": {},
     "output_type": "execute_result"
    }
   ],
   "source": [
    "## Remove axes, remove axis\n",
    "fig = plt.figure()\n",
    "ax = plt.Axes(fig, [0., 0., 1., 1.])\n",
    "ax.set_axis_off()\n",
    "fig.add_axes(ax)\n",
    "\n",
    "ax.imshow(img)"
   ]
  },
  {
   "cell_type": "markdown",
   "metadata": {},
   "source": [
    "## thresholding on C2-P1"
   ]
  },
  {
   "cell_type": "code",
   "execution_count": 19,
   "metadata": {},
   "outputs": [],
   "source": [
    "addr_extr = '/home/meglio/Bureau/git/Tools/unet/training_sets/training_20x/masks'\n",
    "ext = 'tiff'\n",
    "frame_nb = 190\n",
    "thresh_level = 33\n",
    "addr = Path(addr_extr) / f'{frame_nb}.{ext}'"
   ]
  },
  {
   "cell_type": "code",
   "execution_count": 20,
   "metadata": {},
   "outputs": [],
   "source": [
    "img_black = np.zeros( ( 512,512 ), np.uint8  )\n",
    "img = cv2.imread(str(addr), -1)\n",
    "imgray = cv2.cvtColor(img, cv2.COLOR_BGR2GRAY)             # self.img_mask\n",
    "ret, thresh = cv2.threshold(imgray, thresh_level, 255, 0)\n",
    "contours, hierarchy = cv2.findContours(thresh, cv2.RETR_TREE, cv2.CHAIN_APPROX_SIMPLE)[-2:]\n",
    "img_cntrs = cv2.drawContours( img, contours, -1, (255, 255, 255), cv2.FILLED )\n",
    "#img_cntrs = cv2.cvtColor(img_cntrs,cv2.COLOR_GRAY2RGB)  # back to color"
   ]
  },
  {
   "cell_type": "code",
   "execution_count": 21,
   "metadata": {},
   "outputs": [
    {
     "data": {
      "text/plain": [
       "<matplotlib.image.AxesImage at 0x7f908423bfd0>"
      ]
     },
     "execution_count": 21,
     "metadata": {},
     "output_type": "execute_result"
    }
   ],
   "source": [
    "## Remove axes, remove axis\n",
    "fig = plt.figure()\n",
    "ax = plt.Axes(fig, [0., 0., 1., 1.])\n",
    "ax.set_axis_off()\n",
    "fig.add_axes(ax)\n",
    "\n",
    "ax.imshow(img_cntrs)"
   ]
  },
  {
   "cell_type": "markdown",
   "metadata": {},
   "source": [
    "## adaptive thresholding on C2-P1"
   ]
  },
  {
   "cell_type": "code",
   "execution_count": 104,
   "metadata": {},
   "outputs": [],
   "source": [
    "def thresholdings(imgray,thresh_level):\n",
    "    '''\n",
    "    '''\n",
    "    ret,th1a = cv2.threshold(imgray, thresh_level, 255, 0)\n",
    "    ret,th1b = cv2.threshold(img, thresh_level, 255, cv2.THRESH_BINARY)\n",
    "    ret,th1c = cv2.threshold(img, thresh_level, 255, cv2.THRESH_TRUNC)\n",
    "    ret,th1d = cv2.threshold(img, thresh_level, 255, cv2.THRESH_TOZERO)\n",
    "    ret,th1e = cv2.threshold(img, thresh_level, 255, cv2.THRESH_TOZERO_INV)\n",
    "    th1 = [th1a,th1b,th1c,th1d,th1e]\n",
    "    th2 = cv2.adaptiveThreshold(imgray,255,cv2.ADAPTIVE_THRESH_MEAN_C,cv2.THRESH_BINARY,11,2)\n",
    "    th3 = cv2.adaptiveThreshold(imgray,255,cv2.ADAPTIVE_THRESH_GAUSSIAN_C,cv2.THRESH_BINARY,11,2)\n",
    "    return th1, th2, th3"
   ]
  },
  {
   "cell_type": "code",
   "execution_count": 105,
   "metadata": {},
   "outputs": [],
   "source": [
    "from skimage.restoration import denoise_tv_chambolle\n",
    "addr_extr = '/home/meglio/Bureau/git/Tools/unet/training_sets/training_20x/masks'\n",
    "ext = 'tiff'\n",
    "frame_nb = 190\n",
    "thresh_level = 33\n",
    "addr = Path(addr_extr) / f'{frame_nb}.{ext}'"
   ]
  },
  {
   "cell_type": "code",
   "execution_count": 192,
   "metadata": {},
   "outputs": [
    {
     "ename": "AttributeError",
     "evalue": "'NoneType' object has no attribute 'dtype'",
     "output_type": "error",
     "traceback": [
      "\u001b[0;31m---------------------------------------------------------------------------\u001b[0m",
      "\u001b[0;31mAttributeError\u001b[0m                            Traceback (most recent call last)",
      "\u001b[0;32m<ipython-input-192-fbf18a3233bb>\u001b[0m in \u001b[0;36m<module>\u001b[0;34m\u001b[0m\n\u001b[1;32m      1\u001b[0m \u001b[0mimg_black\u001b[0m \u001b[0;34m=\u001b[0m \u001b[0mnp\u001b[0m\u001b[0;34m.\u001b[0m\u001b[0mzeros\u001b[0m\u001b[0;34m(\u001b[0m \u001b[0;34m(\u001b[0m \u001b[0;36m512\u001b[0m\u001b[0;34m,\u001b[0m\u001b[0;36m512\u001b[0m \u001b[0;34m)\u001b[0m\u001b[0;34m,\u001b[0m \u001b[0mnp\u001b[0m\u001b[0;34m.\u001b[0m\u001b[0muint8\u001b[0m  \u001b[0;34m)\u001b[0m\u001b[0;34m\u001b[0m\u001b[0;34m\u001b[0m\u001b[0m\n\u001b[1;32m      2\u001b[0m \u001b[0mimg\u001b[0m \u001b[0;34m=\u001b[0m \u001b[0mcv2\u001b[0m\u001b[0;34m.\u001b[0m\u001b[0mimread\u001b[0m\u001b[0;34m(\u001b[0m\u001b[0mstr\u001b[0m\u001b[0;34m(\u001b[0m\u001b[0maddr\u001b[0m\u001b[0;34m)\u001b[0m\u001b[0;34m,\u001b[0m \u001b[0;34m-\u001b[0m\u001b[0;36m1\u001b[0m\u001b[0;34m)\u001b[0m\u001b[0;34m\u001b[0m\u001b[0;34m\u001b[0m\u001b[0m\n\u001b[0;32m----> 3\u001b[0;31m \u001b[0mimg\u001b[0m \u001b[0;34m=\u001b[0m \u001b[0mdenoise_tv_chambolle\u001b[0m\u001b[0;34m(\u001b[0m\u001b[0mimg\u001b[0m\u001b[0;34m,\u001b[0m \u001b[0mweight\u001b[0m\u001b[0;34m=\u001b[0m\u001b[0;36m0.03\u001b[0m\u001b[0;34m)\u001b[0m\u001b[0;34m\u001b[0m\u001b[0;34m\u001b[0m\u001b[0m\n\u001b[0m\u001b[1;32m      4\u001b[0m \u001b[0mimgray\u001b[0m \u001b[0;34m=\u001b[0m \u001b[0mcv2\u001b[0m\u001b[0;34m.\u001b[0m\u001b[0mcvtColor\u001b[0m\u001b[0;34m(\u001b[0m\u001b[0mimg\u001b[0m\u001b[0;34m,\u001b[0m \u001b[0mcv2\u001b[0m\u001b[0;34m.\u001b[0m\u001b[0mCOLOR_BGR2GRAY\u001b[0m\u001b[0;34m)\u001b[0m             \u001b[0;31m# self.img_mask\u001b[0m\u001b[0;34m\u001b[0m\u001b[0;34m\u001b[0m\u001b[0m\n\u001b[1;32m      5\u001b[0m \u001b[0;31m#imgray = denoise_tv_chambolle(imgray, weight=0.03)\u001b[0m\u001b[0;34m\u001b[0m\u001b[0;34m\u001b[0m\u001b[0;34m\u001b[0m\u001b[0m\n",
      "\u001b[0;32m~/anaconda3/lib/python3.7/site-packages/skimage/restoration/_denoise.py\u001b[0m in \u001b[0;36mdenoise_tv_chambolle\u001b[0;34m(image, weight, eps, n_iter_max, multichannel)\u001b[0m\n\u001b[1;32m    445\u001b[0m     \"\"\"\n\u001b[1;32m    446\u001b[0m \u001b[0;34m\u001b[0m\u001b[0m\n\u001b[0;32m--> 447\u001b[0;31m     \u001b[0mim_type\u001b[0m \u001b[0;34m=\u001b[0m \u001b[0mimage\u001b[0m\u001b[0;34m.\u001b[0m\u001b[0mdtype\u001b[0m\u001b[0;34m\u001b[0m\u001b[0;34m\u001b[0m\u001b[0m\n\u001b[0m\u001b[1;32m    448\u001b[0m     \u001b[0;32mif\u001b[0m \u001b[0;32mnot\u001b[0m \u001b[0mim_type\u001b[0m\u001b[0;34m.\u001b[0m\u001b[0mkind\u001b[0m \u001b[0;34m==\u001b[0m \u001b[0;34m'f'\u001b[0m\u001b[0;34m:\u001b[0m\u001b[0;34m\u001b[0m\u001b[0;34m\u001b[0m\u001b[0m\n\u001b[1;32m    449\u001b[0m         \u001b[0mimage\u001b[0m \u001b[0;34m=\u001b[0m \u001b[0mimg_as_float\u001b[0m\u001b[0;34m(\u001b[0m\u001b[0mimage\u001b[0m\u001b[0;34m)\u001b[0m\u001b[0;34m\u001b[0m\u001b[0;34m\u001b[0m\u001b[0m\n",
      "\u001b[0;31mAttributeError\u001b[0m: 'NoneType' object has no attribute 'dtype'"
     ]
    }
   ],
   "source": [
    "img_black = np.zeros( ( 512,512 ), np.uint8  )\n",
    "img = cv2.imread(str(addr), -1)\n",
    "img = denoise_tv_chambolle(img, weight=0.03)\n",
    "imgray = cv2.cvtColor(img, cv2.COLOR_BGR2GRAY)             # self.img_mask\n",
    "#imgray = denoise_tv_chambolle(imgray, weight=0.03)\n",
    "th1, th2, th3 = thresholdings(imgray,thresh_level)\n",
    "contours, hierarchy = cv2.findContours(th2, cv2.RETR_TREE, cv2.CHAIN_APPROX_SIMPLE)[-2:]\n",
    "img_cntrs = cv2.drawContours( img, contours, -1, (255, 255, 255), cv2.FILLED )\n",
    "#img_cntrs = cv2.cvtColor(img_cntrs,cv2.COLOR_GRAY2RGB)  # back to color"
   ]
  },
  {
   "cell_type": "code",
   "execution_count": 108,
   "metadata": {},
   "outputs": [
    {
     "data": {
      "text/plain": [
       "<matplotlib.image.AxesImage at 0x7f90503c6490>"
      ]
     },
     "execution_count": 108,
     "metadata": {},
     "output_type": "execute_result"
    }
   ],
   "source": [
    "## Remove axes, remove axis\n",
    "#plt.title()\n",
    "fig = plt.figure()\n",
    "ax = plt.Axes(fig, [0., 0., 1., 1.])\n",
    "ax.set_axis_off()\n",
    "#ax.set_title(f'figure {frame_nb}')\n",
    "fig.add_axes(ax)\n",
    "ax.imshow(img_cntrs)"
   ]
  },
  {
   "cell_type": "code",
   "execution_count": 177,
   "metadata": {},
   "outputs": [
    {
     "data": {
      "text/plain": [
       "0.045584045584045586"
      ]
     },
     "execution_count": 177,
     "metadata": {},
     "output_type": "execute_result"
    }
   ],
   "source": [
    "24/526.5"
   ]
  },
  {
   "cell_type": "code",
   "execution_count": null,
   "metadata": {},
   "outputs": [],
   "source": []
  }
 ],
 "metadata": {
  "kernelspec": {
   "display_name": "Python 3",
   "language": "python",
   "name": "python3"
  },
  "language_info": {
   "codemirror_mode": {
    "name": "ipython",
    "version": 3
   },
   "file_extension": ".py",
   "mimetype": "text/x-python",
   "name": "python",
   "nbconvert_exporter": "python",
   "pygments_lexer": "ipython3",
   "version": "3.7.6"
  }
 },
 "nbformat": 4,
 "nbformat_minor": 4
}
