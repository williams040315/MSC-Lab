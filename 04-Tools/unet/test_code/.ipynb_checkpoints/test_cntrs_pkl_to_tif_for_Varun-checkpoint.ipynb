{
 "cells": [
  {
   "cell_type": "code",
   "execution_count": 26,
   "metadata": {},
   "outputs": [],
   "source": [
    "import os, re\n",
    "import json\n",
    "import shutil as sh\n",
    "from datetime import datetime\n",
    "from pathlib import Path\n",
    "import pickle as pkl\n",
    "from matplotlib import pyplot as plt\n",
    "from PIL import Image\n",
    "import cv2\n",
    "import numpy as np\n",
    "from scipy.linalg import norm\n",
    "from skimage import io"
   ]
  },
  {
   "cell_type": "code",
   "execution_count": 27,
   "metadata": {},
   "outputs": [],
   "source": [
    "#root = 'size_cntrs/proc_25-11-2020-09-39' \n",
    "root = 'pkl_to_tif'\n",
    "addr_pkl = Path(root) / 'pkl_cntrs_GrowthRate520191016_84027_PM_f0000_movie_cleaned_BF_training-cell_v3-ep5-bs4-fl_date04-10-2020-13-18_sp5_25-11-2020-19-12.pkl'\n",
    "with open(addr_pkl, 'rb') as f:\n",
    "    cntrs = pkl.load(f)"
   ]
  },
  {
   "cell_type": "code",
   "execution_count": 28,
   "metadata": {},
   "outputs": [],
   "source": [
    "def bigger_cntrs(dic_cntrs, fact=4):\n",
    "    '''\n",
    "    '''\n",
    "    new_cntrs = {}\n",
    "    for j,lc in dic_cntrs.items():\n",
    "        new_cntrs[j] = []\n",
    "        for c in lc:\n",
    "            new_cntrs[j] += [fact*c]\n",
    "    return new_cntrs"
   ]
  },
  {
   "cell_type": "code",
   "execution_count": 31,
   "metadata": {},
   "outputs": [],
   "source": [
    "dic_new_cntrs = bigger_cntrs(cntrs, fact=4)"
   ]
  },
  {
   "cell_type": "markdown",
   "metadata": {},
   "source": [
    "## Test segmentation sur 512x512"
   ]
  },
  {
   "cell_type": "code",
   "execution_count": 30,
   "metadata": {},
   "outputs": [
    {
     "name": "stdout",
     "output_type": "stream",
     "text": [
      "Using matplotlib backend: Qt5Agg\n"
     ]
    },
    {
     "name": "stderr",
     "output_type": "stream",
     "text": [
      "/home/meglio/anaconda3/lib/python3.7/site-packages/ipykernel_launcher.py:10: UserWarning: img_cntrs_orig_format.tif is a low contrast image\n",
      "  # Remove the CWD from sys.path while we load stuff.\n"
     ]
    }
   ],
   "source": [
    "%matplotlib\n",
    "\n",
    "for i, curr_cntrs in enumerate(dic_new_cntrs.values()[:2]):\n",
    "    #num = 0\n",
    "    plt.figure()\n",
    "    h, w = 2048, 2048 #512, 512\n",
    "    mask = np.zeros( ( h, w ), np.uint8  )\n",
    "    img = cv2.drawContours( mask, curr_cntrs, -1, (255, 255, 255), -1 ) # fill contour\n",
    "    #cv2.imwrite('img_cntrs_orig_format.png',img)\n",
    "    io.imsave(f'track_segm_tif/img_cntrs{i}_2k.tif', img)\n",
    "    plt.imshow(img)"
   ]
  },
  {
   "cell_type": "code",
   "execution_count": 33,
   "metadata": {},
   "outputs": [
    {
     "data": {
      "text/plain": [
       "120"
      ]
     },
     "execution_count": 33,
     "metadata": {},
     "output_type": "execute_result"
    }
   ],
   "source": [
    "len(dic_new_cntrs.values())"
   ]
  },
  {
   "cell_type": "code",
   "execution_count": null,
   "metadata": {},
   "outputs": [],
   "source": []
  }
 ],
 "metadata": {
  "kernelspec": {
   "display_name": "Python 3",
   "language": "python",
   "name": "python3"
  },
  "language_info": {
   "codemirror_mode": {
    "name": "ipython",
    "version": 3
   },
   "file_extension": ".py",
   "mimetype": "text/x-python",
   "name": "python",
   "nbconvert_exporter": "python",
   "pygments_lexer": "ipython3",
   "version": "3.7.6"
  }
 },
 "nbformat": 4,
 "nbformat_minor": 4
}
