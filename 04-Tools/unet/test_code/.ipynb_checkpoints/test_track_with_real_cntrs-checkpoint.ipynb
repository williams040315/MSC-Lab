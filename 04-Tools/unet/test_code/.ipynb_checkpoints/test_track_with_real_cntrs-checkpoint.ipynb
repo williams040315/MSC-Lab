{
 "cells": [
  {
   "cell_type": "code",
   "execution_count": 1,
   "metadata": {},
   "outputs": [
    {
     "name": "stdout",
     "output_type": "stream",
     "text": [
      "Using matplotlib backend: Qt5Agg\n",
      "/home/meglio/Bureau/git/Tools/unet\n"
     ]
    }
   ],
   "source": [
    "%matplotlib\n",
    "import os, sys\n",
    "from time import time\n",
    "op = os.path\n",
    "opd, opb, opj = op.dirname, op.basename, op.join\n",
    "opa = op.abspath\n",
    "import inspect as insp\n",
    "from pathlib import Path\n",
    "from matplotlib import pyplot as plt\n",
    "import numpy as np\n",
    "from scipy.optimize import linear_sum_assignment\n",
    "from scipy.linalg import norm\n",
    "import cv2\n",
    "import pickle as pkl\n",
    "##\n",
    "currdir = opd(opa(insp.getfile(insp.currentframe()))) # current dir at level above.. \n",
    "parentdir = opd(currdir)\n",
    "sys.path.insert(0,parentdir) \n",
    "print(parentdir)\n",
    "\n",
    "from modules_unet.track_methods import TRACK_METH "
   ]
  },
  {
   "cell_type": "code",
   "execution_count": 2,
   "metadata": {},
   "outputs": [],
   "source": [
    "tm = TRACK_METH()"
   ]
  },
  {
   "cell_type": "code",
   "execution_count": 3,
   "metadata": {},
   "outputs": [],
   "source": [
    "with open('track/pkl_cntrs-11-2020-15-04.pkl', 'rb') as f:\n",
    "    cntrs = pkl.load(f)"
   ]
  },
  {
   "cell_type": "code",
   "execution_count": 4,
   "metadata": {},
   "outputs": [],
   "source": [
    "def put_cntrs_in_img(cntrs, index):\n",
    "    '''\n",
    "    '''\n",
    "    img = np.zeros( ( 512,512 ), np.uint8  )\n",
    "    cv2.drawContours( img, cntrs[index], -1, (255, 255, 255), -1 ) # fill contour\n",
    "    return img"
   ]
  },
  {
   "cell_type": "code",
   "execution_count": 5,
   "metadata": {},
   "outputs": [],
   "source": [
    "def insert_num_cell(img, pos, i):\n",
    "    '''\n",
    "    number of the cell for tracking\n",
    "    '''\n",
    "    font = cv2.FONT_HERSHEY_SIMPLEX\n",
    "    size = 0.6\n",
    "    color = (255,)*3\n",
    "  \n",
    "    cv2.putText(img, str(i), pos, font, size, color, 1, cv2.LINE_AA)\n",
    "\n",
    "def make_list_pos(cntrs, index, col_ind= None, show=False):\n",
    "    '''\n",
    "    '''\n",
    "    img =  put_cntrs_in_img(cntrs, index)\n",
    "\n",
    "    cnts, h = cv2.findContours(img, cv2.RETR_TREE, cv2.CHAIN_APPROX_SIMPLE)[-2:]\n",
    "    list_pos = []\n",
    "    \n",
    "    #print(f\"## len(cnts) is {len(cnts)} )\")\n",
    "    for i,c in enumerate(cnts):\n",
    "        x, y, w, h = cv2.boundingRect(c)\n",
    "        pos = (int(x + w/2), int(y + h/2) )  # find position\n",
    "        list_pos += [pos]\n",
    "    new_list_pos = [0]*len(list_pos)\n",
    "    if np.any(col_ind):\n",
    "        print(f\"col_ind {col_ind}\")\n",
    "        print(f\"list_pos {list_pos}\")\n",
    "        for i, p in enumerate(list_pos):\n",
    "            \n",
    "            try:\n",
    "                print(f\"col_ind[i] {col_ind[i]}\")\n",
    "                new_list_pos[i] = list_pos[col_ind[i]]\n",
    "            except:\n",
    "                pass\n",
    "        print(f\"new_list_pos {new_list_pos}\")\n",
    "        for j,p in enumerate(new_list_pos):\n",
    "            if p != 0:\n",
    "                list_pos[j]=p    \n",
    "                #print('change pos')\n",
    "    for i, pos in enumerate(list_pos):\n",
    "        insert_num_cell(img, pos, i)\n",
    "    if show: plt.imshow(img)\n",
    "    return [ np.array( list(p) ) for p in list_pos ]"
   ]
  },
  {
   "cell_type": "code",
   "execution_count": 6,
   "metadata": {},
   "outputs": [],
   "source": [
    "lp1 = make_list_pos(cntrs, 2, show=False) # list position img 1\n",
    "lp2 = make_list_pos(cntrs, 3, show=False) # list position img 2"
   ]
  },
  {
   "cell_type": "raw",
   "metadata": {},
   "source": [
    "print(lp2)\n",
    "tm.meth_min(lp1, lp2)\n",
    "print(lp2)"
   ]
  },
  {
   "cell_type": "raw",
   "metadata": {},
   "source": [
    "a = [np.array([420, 482]), np.array([413, 466]), np.array([320, 428])]\n",
    "b = [ p+np.array([1,1]) for p in a ]\n",
    "b.insert(1,np.array([1,3]))"
   ]
  },
  {
   "cell_type": "raw",
   "metadata": {},
   "source": [
    "tm.meth_hung(a,b, corr=True)"
   ]
  },
  {
   "cell_type": "raw",
   "metadata": {},
   "source": [
    "print(lp1[:10])\n",
    "print('###')\n",
    "print(lp2[:10])"
   ]
  },
  {
   "cell_type": "code",
   "execution_count": 8,
   "metadata": {},
   "outputs": [
    {
     "name": "stdout",
     "output_type": "stream",
     "text": [
      "[array([420, 482]), array([413, 466]), array([320, 428]), array([377, 390]), array([361, 377]), array([442, 375]), array([392, 375]), array([455, 373]), array([406, 371]), array([377, 371])]\n",
      "Hungarian method\n",
      "type(l_curr[0]) is <class 'numpy.ndarray'>\n",
      "diff (lcurr-lprev) is 0\n",
      "## row_ind, col_ind (array([0, 1, 2, 3, 4, 5, 6, 7, 8, 9]), array([0, 1, 2, 3, 4, 5, 6, 7, 9, 8]))\n",
      "### longer !!\n"
     ]
    }
   ],
   "source": [
    "a = lp1[:10]\n",
    "b = lp2[:10]\n",
    "print(a)\n",
    "print('##')\n",
    "print(b)\n",
    "tm.meth_hung(a,b, corr=True, show_assign=True)\n",
    "#tm.meth_min(a,b, corr=True)"
   ]
  },
  {
   "cell_type": "code",
   "execution_count": 9,
   "metadata": {},
   "outputs": [
    {
     "name": "stdout",
     "output_type": "stream",
     "text": [
      "[array([420, 482]), array([413, 466]), array([320, 428]), array([377, 390]), array([361, 377]), array([442, 375]), array([392, 375]), array([455, 373]), array([377, 371]), array([406, 371])]\n"
     ]
    }
   ],
   "source": [
    "print(b)"
   ]
  },
  {
   "cell_type": "code",
   "execution_count": null,
   "metadata": {},
   "outputs": [],
   "source": []
  }
 ],
 "metadata": {
  "kernelspec": {
   "display_name": "Python 3",
   "language": "python",
   "name": "python3"
  },
  "language_info": {
   "codemirror_mode": {
    "name": "ipython",
    "version": 3
   },
   "file_extension": ".py",
   "mimetype": "text/x-python",
   "name": "python",
   "nbconvert_exporter": "python",
   "pygments_lexer": "ipython3",
   "version": "3.7.6"
  }
 },
 "nbformat": 4,
 "nbformat_minor": 4
}
