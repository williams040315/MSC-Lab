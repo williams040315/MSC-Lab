{
 "cells": [
  {
   "cell_type": "code",
   "execution_count": 1,
   "metadata": {},
   "outputs": [
    {
     "name": "stdout",
     "output_type": "stream",
     "text": [
      "Using matplotlib backend: Qt5Agg\n"
     ]
    }
   ],
   "source": [
    "%matplotlib\n",
    "import os\n",
    "from time import time\n",
    "import shutil as sh\n",
    "##\n",
    "import numpy as np\n",
    "##\n",
    "from matplotlib import pyplot as plt\n",
    "import cv2"
   ]
  },
  {
   "cell_type": "code",
   "execution_count": 2,
   "metadata": {},
   "outputs": [],
   "source": [
    "#name_img = 'ep5_div3_exp94_BF_f0007_frame28.png' # not well separated cells\n",
    "name_img = 'thresh_150_exp94_BF_f0007_frame124.png'\n",
    "img_orig = cv2.imread(name_img)\n",
    "img = cv2.cvtColor(img_orig, cv2.COLOR_BGR2GRAY)"
   ]
  },
  {
   "cell_type": "code",
   "execution_count": 3,
   "metadata": {},
   "outputs": [],
   "source": [
    "ret, thresh = cv2.threshold(img, 180, 255, 0)"
   ]
  },
  {
   "cell_type": "code",
   "execution_count": 4,
   "metadata": {},
   "outputs": [],
   "source": [
    "sk = 3\n",
    "#kernel = np.ones((ksize,ksize), np.uint8) \n",
    "kernel = cv2.getStructuringElement( cv2.MORPH_ELLIPSE, (sk,sk) )\n",
    "for i in range(5):\n",
    "    thresh = cv2.erode(thresh, kernel, iterations=2)\n",
    "    thresh = cv2.dilate(thresh, kernel, iterations=2)"
   ]
  },
  {
   "cell_type": "code",
   "execution_count": 5,
   "metadata": {},
   "outputs": [
    {
     "name": "stdout",
     "output_type": "stream",
     "text": [
      "161\n"
     ]
    }
   ],
   "source": [
    "cv2.imshow('blabla',thresh)\n",
    "contours, hierarchy = cv2.findContours(thresh, cv2.RETR_TREE, cv2.CHAIN_APPROX_SIMPLE)[-2:]\n",
    "#cv2.drawContours( img_orig, contours, -1, (0,255,255), -1 ) \n",
    "print(len(contours))\n",
    "num_cntr = 20"
   ]
  },
  {
   "cell_type": "raw",
   "metadata": {},
   "source": [
    "h, w, nchan = img_orig.shape\n",
    "mask = np.zeros( ( h+2, w+2 ), np.uint8  )\n",
    "cv2.drawContours( mask, [contours[num_cntr]], -1, (255, 255, 255), -1 ) # fill contour\n",
    "mask = cv2.bitwise_not(mask)"
   ]
  },
  {
   "cell_type": "code",
   "execution_count": 6,
   "metadata": {},
   "outputs": [
    {
     "data": {
      "text/plain": [
       "True"
      ]
     },
     "execution_count": 6,
     "metadata": {},
     "output_type": "execute_result"
    }
   ],
   "source": [
    "cv2.drawContours( img_orig, [contours[num_cntr]], -1, (0, 255, 255), -1 ) # fill contour\n",
    "cv2.imwrite('image.png',img_orig)"
   ]
  },
  {
   "cell_type": "code",
   "execution_count": null,
   "metadata": {},
   "outputs": [],
   "source": []
  }
 ],
 "metadata": {
  "kernelspec": {
   "display_name": "Python 3",
   "language": "python",
   "name": "python3"
  },
  "language_info": {
   "codemirror_mode": {
    "name": "ipython",
    "version": 3
   },
   "file_extension": ".py",
   "mimetype": "text/x-python",
   "name": "python",
   "nbconvert_exporter": "python",
   "pygments_lexer": "ipython3",
   "version": "3.7.6"
  }
 },
 "nbformat": 4,
 "nbformat_minor": 4
}
