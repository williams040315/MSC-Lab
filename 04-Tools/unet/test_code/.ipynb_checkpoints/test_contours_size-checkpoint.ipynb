{
 "cells": [
  {
   "cell_type": "code",
   "execution_count": 19,
   "metadata": {},
   "outputs": [],
   "source": [
    "import os, re\n",
    "import json\n",
    "import shutil as sh\n",
    "from datetime import datetime\n",
    "from pathlib import Path\n",
    "import pickle as pkl\n",
    "from matplotlib import pyplot as plt\n",
    "from PIL import Image\n",
    "import cv2\n",
    "import numpy as np\n",
    "from scipy.linalg import norm"
   ]
  },
  {
   "cell_type": "code",
   "execution_count": 20,
   "metadata": {},
   "outputs": [],
   "source": [
    "#root = 'size_cntrs/proc_25-11-2020-09-39' \n",
    "root = 'size_cntrs/proc_25-11-2020-10-46'\n",
    "addr_imgs = Path(root) / 'movie'\n",
    "#addr_pkl = Path(root) / 'pkl_cntrs_upload_BF_f0000_training-cell_v3-ep5-bs4-fl_date04-10-2020-13-18_sp5_th120_25-11-2020-09-40.pkl'\n",
    "addr_pkl = Path(root) / 'pkl_cntrs_upload_BF_f0000_training-cell_v3-ep5-bs4-fl_date04-10-2020-13-18_sp5_th120_25-11-2020-10-47.pkl'\n",
    "ll = os.listdir(addr_imgs)\n",
    "list_imgs = sorted(ll, key = lambda elem: int(re.findall('\\d+', elem)[0]))\n",
    "#print(list_imgs)\n",
    "with open(addr_pkl, 'rb') as f:\n",
    "    cntrs = pkl.load(f)"
   ]
  },
  {
   "cell_type": "markdown",
   "metadata": {},
   "source": [
    "## Test segmentation sur 512x512"
   ]
  },
  {
   "cell_type": "code",
   "execution_count": 21,
   "metadata": {},
   "outputs": [
    {
     "name": "stdout",
     "output_type": "stream",
     "text": [
      "Using matplotlib backend: Qt5Agg\n"
     ]
    }
   ],
   "source": [
    "%matplotlib\n",
    "for num in range(4):\n",
    "    #num = 0\n",
    "    plt.figure()\n",
    "    img = cv2.imread(str(Path(addr_imgs) / list_imgs[num]))\n",
    "    img = cv2.drawContours(img, cntrs[num], -1, (255, 255, 255), -1)\n",
    "    plt.imshow(img)"
   ]
  },
  {
   "cell_type": "code",
   "execution_count": null,
   "metadata": {},
   "outputs": [],
   "source": []
  }
 ],
 "metadata": {
  "kernelspec": {
   "display_name": "Python 3",
   "language": "python",
   "name": "python3"
  },
  "language_info": {
   "codemirror_mode": {
    "name": "ipython",
    "version": 3
   },
   "file_extension": ".py",
   "mimetype": "text/x-python",
   "name": "python",
   "nbconvert_exporter": "python",
   "pygments_lexer": "ipython3",
   "version": "3.7.6"
  }
 },
 "nbformat": 4,
 "nbformat_minor": 4
}
