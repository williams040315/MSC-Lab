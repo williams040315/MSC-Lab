{
 "cells": [
  {
   "cell_type": "code",
   "execution_count": 1,
   "metadata": {
    "scrolled": true
   },
   "outputs": [
    {
     "name": "stdout",
     "output_type": "stream",
     "text": [
      "Using matplotlib backend: Qt5Agg\n",
      "C:\\Users\\Lionel\\Tools\\unet\n"
     ]
    }
   ],
   "source": [
    "%matplotlib\n",
    "import os, sys\n",
    "import numpy as np\n",
    "\n",
    "import inspect as insp\n",
    "from matplotlib import pyplot as plt\n",
    "from scipy.linalg import norm\n",
    "\n",
    "op = os.path \n",
    "opb = op.basename\n",
    "opd = op.dirname\n",
    "opj = op.join\n",
    "opa = op.abspath\n",
    "\n",
    "currdir = opd(opa(insp.getfile(insp.currentframe())))\n",
    "parentdir = opd(currdir)\n",
    "sys.path.insert(0,parentdir) \n",
    "print(parentdir)\n",
    "\n",
    "from analyse_results import ANALYSE_RESULTS"
   ]
  },
  {
   "cell_type": "code",
   "execution_count": 2,
   "metadata": {},
   "outputs": [],
   "source": [
    "#addr_cntrs = 'proc_30-09-2020-17-14/proc_results.pkl'\n",
    "#addr_cntrs = 'ep5_dil3_test_movie_upload_training-cell_images_04-10-2020-09-54/cntrs_pred.pkl'\n",
    "#addr_cntrs = 'cntrs/ep5_dil3_test_movie_upload_video_training-cell_images_04-10-2020-10-16/cntrs_pred.pkl'\n",
    "#addr_cntrs = 'cntrs/ep5_dil3_test_movie_upload_video_training-cell_images_04-10-2020-12-37/cntrs_pred.pkl'\n",
    "addr_cntrs = 'cntrs/pkl_cntrs_pred_upload_BF_f0000_training-cell_v3-ep5-bs4-fl_date04-10-2020-13-18_sp5_th100_10-10-2020-20-05.pkl'\n",
    "#addr_cntrs = 'cntrs/pkl_cntrs_upload_video_training-cell_images_training-cell_v3-ep5-bs4-fl_date04-10-2020-13-18_sp5_th100_10-10-2020-20-26.pkl'\n",
    "#addr_cntrs = 'cntrs/pkl_cntrs_pred_upload_video_training-cell_images_training-cell_v3-ep5-bs4-fl_date04-10-2020-13-18_sp5_th50_10-10-2020-20-45.pkl'\n",
    "addr_fluo = '/home/meglio/Bureau/data/BF_DrWho/RFP_f0000.tif'"
   ]
  },
  {
   "cell_type": "code",
   "execution_count": 3,
   "metadata": {
    "scrolled": false
   },
   "outputs": [],
   "source": [
    "ar = ANALYSE_RESULTS(name_result=addr_cntrs, load_fluo=True)"
   ]
  },
  {
   "cell_type": "markdown",
   "metadata": {},
   "source": [
    "# Areas"
   ]
  },
  {
   "cell_type": "code",
   "execution_count": null,
   "metadata": {},
   "outputs": [],
   "source": [
    "for i in range(10):\n",
    "    ar.cell(i).areas().plot()\n",
    "plt.show()"
   ]
  },
  {
   "cell_type": "code",
   "execution_count": null,
   "metadata": {},
   "outputs": [],
   "source": [
    "ar.cell(19).areas().plot()"
   ]
  },
  {
   "cell_type": "code",
   "execution_count": null,
   "metadata": {},
   "outputs": [],
   "source": [
    "ar.cell(29).areas().plot()"
   ]
  },
  {
   "cell_type": "code",
   "execution_count": null,
   "metadata": {},
   "outputs": [],
   "source": [
    "ar.cell(25).areas().plot()"
   ]
  },
  {
   "cell_type": "code",
   "execution_count": null,
   "metadata": {},
   "outputs": [],
   "source": [
    "ar.cell(28).areas().plot()\n",
    "ar.cell(8).areas().plot()"
   ]
  },
  {
   "cell_type": "markdown",
   "metadata": {},
   "source": [
    "# Fluos"
   ]
  },
  {
   "cell_type": "markdown",
   "metadata": {},
   "source": [
    "## integral"
   ]
  },
  {
   "cell_type": "code",
   "execution_count": null,
   "metadata": {},
   "outputs": [],
   "source": [
    "ar.cell(2).fluos('sum').plot()"
   ]
  },
  {
   "cell_type": "code",
   "execution_count": null,
   "metadata": {},
   "outputs": [],
   "source": [
    "ll = [1, 9, 7]\n",
    "for i in [1, 9, 7]: # range(10)\n",
    "    ar.cell(i).fluos('sum').plot()"
   ]
  },
  {
   "cell_type": "code",
   "execution_count": null,
   "metadata": {},
   "outputs": [],
   "source": [
    "for i in range(5,25): # range(10)\n",
    "    ar.cell(i).fluos('sum').plot()"
   ]
  },
  {
   "cell_type": "code",
   "execution_count": null,
   "metadata": {},
   "outputs": [],
   "source": [
    "ar.cell(2).fluos('sum').plot()"
   ]
  },
  {
   "cell_type": "code",
   "execution_count": null,
   "metadata": {},
   "outputs": [],
   "source": [
    "ar.cell(21).fluos('sum').plot()"
   ]
  },
  {
   "cell_type": "code",
   "execution_count": null,
   "metadata": {},
   "outputs": [],
   "source": [
    "ar.cell(16).fluos('sum').plot()"
   ]
  },
  {
   "cell_type": "code",
   "execution_count": null,
   "metadata": {},
   "outputs": [],
   "source": [
    "ar.cell(12).fluos('sum').plot()"
   ]
  },
  {
   "cell_type": "code",
   "execution_count": null,
   "metadata": {},
   "outputs": [],
   "source": [
    "ar.cell(10).fluos('sum').plot()"
   ]
  },
  {
   "cell_type": "code",
   "execution_count": null,
   "metadata": {},
   "outputs": [],
   "source": [
    "ar.cell(7).fluos('sum').plot()"
   ]
  },
  {
   "cell_type": "markdown",
   "metadata": {},
   "source": [
    "# std"
   ]
  },
  {
   "cell_type": "code",
   "execution_count": null,
   "metadata": {},
   "outputs": [],
   "source": [
    "ll = [1, 9, 7]\n",
    "for i in [1, 9, 7]: # range(10)\n",
    "    ar.cell(i).fluos('std').plot()"
   ]
  },
  {
   "cell_type": "markdown",
   "metadata": {},
   "source": [
    "# Tracking"
   ]
  },
  {
   "cell_type": "code",
   "execution_count": null,
   "metadata": {},
   "outputs": [],
   "source": [
    "for i in range(5): # range(10)\n",
    "    ar.cell(i).track().plot()"
   ]
  },
  {
   "cell_type": "code",
   "execution_count": null,
   "metadata": {},
   "outputs": [],
   "source": [
    "ar.cell(0).positions"
   ]
  },
  {
   "cell_type": "code",
   "execution_count": null,
   "metadata": {},
   "outputs": [],
   "source": [
    "ar.cell(5).track().plot()\n",
    "plt.figure()\n",
    "ar.cell(5).track('corr').plot()  # cut at first \"big jump\""
   ]
  },
  {
   "cell_type": "code",
   "execution_count": null,
   "metadata": {},
   "outputs": [],
   "source": [
    "ar.cell(21).track().plot()"
   ]
  },
  {
   "cell_type": "code",
   "execution_count": null,
   "metadata": {},
   "outputs": [],
   "source": [
    "ar.cell(16).track().plot()"
   ]
  },
  {
   "cell_type": "markdown",
   "metadata": {},
   "source": [
    "# All cells"
   ]
  },
  {
   "cell_type": "code",
   "execution_count": null,
   "metadata": {},
   "outputs": [],
   "source": [
    "ar.cells().count().plot()"
   ]
  },
  {
   "cell_type": "markdown",
   "metadata": {},
   "source": [
    "# Analyse image"
   ]
  },
  {
   "cell_type": "code",
   "execution_count": 13,
   "metadata": {},
   "outputs": [
    {
     "name": "stderr",
     "output_type": "stream",
     "text": [
      "No handles with labels found to put in legend.\n"
     ]
    }
   ],
   "source": [
    "ar.image(20).area_hist(10).plot()"
   ]
  },
  {
   "cell_type": "markdown",
   "metadata": {},
   "source": [
    "# training set from segmentation"
   ]
  },
  {
   "cell_type": "code",
   "execution_count": null,
   "metadata": {
    "scrolled": true
   },
   "outputs": [],
   "source": [
    "ar.make_training_set_masks_from_segm()"
   ]
  },
  {
   "cell_type": "code",
   "execution_count": null,
   "metadata": {},
   "outputs": [],
   "source": [
    "import shutil as sh\n",
    "addr = 'test_code/training_set_from_segm/04-10-2020-12-53/'\n",
    "sh.rmtree('better_masks')\n",
    "os.mkdir('better_masks')\n",
    "lnum = [6,30,55,60,81,91,93,94,105,112,116,119,121,141,142,153,154,155,176,178]\n",
    "lf = os.listdir(addr)\n",
    "lfs = sorted(lf, key = lambda name: int(name[5:-4]))\n",
    "for i,f in enumerate(lfs):\n",
    "    print(f[5:], lnum[i])\n",
    "    sh.copy2(addr + f ,'better_masks/' + str(lnum[i]) + '.tiff')"
   ]
  },
  {
   "cell_type": "code",
   "execution_count": null,
   "metadata": {},
   "outputs": [],
   "source": [
    "sh.copy2"
   ]
  },
  {
   "cell_type": "markdown",
   "metadata": {},
   "source": [
    "# Divers"
   ]
  }
 ],
 "metadata": {
  "kernelspec": {
   "display_name": "Python 3",
   "language": "python",
   "name": "python3"
  },
  "language_info": {
   "codemirror_mode": {
    "name": "ipython",
    "version": 3
   },
   "file_extension": ".py",
   "mimetype": "text/x-python",
   "name": "python",
   "nbconvert_exporter": "python",
   "pygments_lexer": "ipython3",
   "version": "3.7.7"
  }
 },
 "nbformat": 4,
 "nbformat_minor": 4
}
