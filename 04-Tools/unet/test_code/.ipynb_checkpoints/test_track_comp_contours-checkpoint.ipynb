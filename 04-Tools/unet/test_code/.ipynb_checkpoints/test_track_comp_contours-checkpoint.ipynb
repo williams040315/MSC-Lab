{
 "cells": [
  {
   "cell_type": "code",
   "execution_count": 46,
   "metadata": {},
   "outputs": [
    {
     "name": "stdout",
     "output_type": "stream",
     "text": [
      "Using matplotlib backend: Qt5Agg\n",
      "/home/meglio/Bureau/git/Tools/unet\n"
     ]
    }
   ],
   "source": [
    "%matplotlib\n",
    "import os, sys\n",
    "from time import time\n",
    "op = os.path\n",
    "opd, opb, opj = op.dirname, op.basename, op.join\n",
    "opa = op.abspath\n",
    "import inspect as insp\n",
    "from pathlib import Path\n",
    "from matplotlib import pyplot as plt\n",
    "import numpy as np\n",
    "from scipy.optimize import linear_sum_assignment\n",
    "from scipy.linalg import norm\n",
    "import cv2\n",
    "import pickle as pkl\n",
    "##\n",
    "currdir = opd(opa(insp.getfile(insp.currentframe()))) # current dir at level above.. \n",
    "parentdir = opd(currdir)\n",
    "sys.path.insert(0,parentdir) \n",
    "print(parentdir)\n",
    "rint = np.random.randint\n",
    "rand_col = [tuple(map(int,rint(0,255,3))) for i in range(2000)]\n",
    "\n",
    "from modules_unet.track_methods import TRACK_METH "
   ]
  },
  {
   "cell_type": "code",
   "execution_count": 3,
   "metadata": {},
   "outputs": [],
   "source": [
    "tm = TRACK_METH()"
   ]
  },
  {
   "cell_type": "code",
   "execution_count": 4,
   "metadata": {},
   "outputs": [],
   "source": [
    "with open('track/pkl_cntrs-11-2020-15-04.pkl', 'rb') as f:\n",
    "    cntrs = pkl.load(f)"
   ]
  },
  {
   "cell_type": "code",
   "execution_count": 70,
   "metadata": {},
   "outputs": [],
   "source": [
    "def argmin(lst):\n",
    "    return lst.index(min(lst))\n",
    "\n",
    "def put_cntrs_in_img(cntrs, index):\n",
    "    '''\n",
    "    '''\n",
    "    img = np.zeros( ( 512,512 ), np.uint8  )\n",
    "    cv2.drawContours( img, cntrs[index], -1, (255, 255, 255), -1 ) # fill contour\n",
    "    return img\n",
    "\n",
    "def cntr_index(img,c,i):\n",
    "    '''\n",
    "    add index to the contour\n",
    "    '''\n",
    "    x, y, w, h = cv2.boundingRect(c)\n",
    "    pos = (int(x + w/2), int(y + h/2) )  # find position\n",
    "    font = cv2.FONT_HERSHEY_SIMPLEX\n",
    "    fontScale = 0.4\n",
    "    thick = 1\n",
    "    txt = str(i)\n",
    "    txt_col = (255, 255, 255)\n",
    "    cv2.putText(img, txt, pos, font, fontScale, txt_col, thick, cv2.LINE_AA)"
   ]
  },
  {
   "cell_type": "code",
   "execution_count": 72,
   "metadata": {},
   "outputs": [
    {
     "name": "stdout",
     "output_type": "stream",
     "text": [
      "img 0 0.0577\n",
      "img 1 0.0502\n",
      "img 2 0.0647\n",
      "img 3 0.0632\n",
      "img 4 0.0045\n",
      "img 5 0.4008\n",
      "img 6 0.0513\n",
      "img 7 0.0753\n",
      "img 8 0.1046\n",
      "img 9 1.7976931348623157e+308\n",
      "img 10 0.0938\n",
      "img 11 0.0311\n",
      "img 12 0.0689\n",
      "img 13 0.0004\n",
      "img 14 0.0308\n",
      "img 15 0.0367\n",
      "img 16 0.011\n",
      "img 17 0.0501\n",
      "img 18 0.0153\n",
      "img 19 0.0288\n",
      "img 20 0.0114\n",
      "img 21 0.0321\n",
      "img 22 0.3302\n",
      "img 23 0.4014\n",
      "img 24 0.1689\n",
      "img 25 0.0328\n",
      "img 26 0.1332\n",
      "img 27 0.0927\n",
      "img 28 0.0607\n",
      "img 29 0.1198\n",
      "most similar is 13\n"
     ]
    },
    {
     "data": {
      "text/plain": [
       "<matplotlib.image.AxesImage at 0x7fdf08206950>"
      ]
     },
     "execution_count": 72,
     "metadata": {},
     "output_type": "execute_result"
    }
   ],
   "source": [
    "num_im = 0\n",
    "num_cell = 4\n",
    "img = np.zeros( ( 512,512 ), np.uint8  )\n",
    "img = cv2.cvtColor(img, cv2.COLOR_GRAY2BGR)\n",
    "cv2.drawContours( img, [cntrs[num_im][num_cell]], -1, (255, 255, 255), cv2.FILLED ) # fill contour\n",
    "\n",
    "lsimil = []\n",
    "for i in range(30):\n",
    "    simil = cv2.matchShapes(cntrs[num_im][num_cell],cntrs[num_im+1][i], cv2.CONTOURS_MATCH_I1,0.0)\n",
    "    lsimil += [simil]\n",
    "    cv2.drawContours( img, [cntrs[num_im+1][i]], -1, rand_col[i], cv2.FILLED ) # \n",
    "    cntr_index(img,cntrs[num_im+1][i],i)\n",
    "    print(f'img {i} {round(simil,4)}')\n",
    "print(f'most similar is {argmin(lsimil)}')\n",
    "plt.imshow(img)"
   ]
  },
  {
   "cell_type": "code",
   "execution_count": null,
   "metadata": {},
   "outputs": [],
   "source": []
  }
 ],
 "metadata": {
  "kernelspec": {
   "display_name": "Python 3",
   "language": "python",
   "name": "python3"
  },
  "language_info": {
   "codemirror_mode": {
    "name": "ipython",
    "version": 3
   },
   "file_extension": ".py",
   "mimetype": "text/x-python",
   "name": "python",
   "nbconvert_exporter": "python",
   "pygments_lexer": "ipython3",
   "version": "3.7.6"
  }
 },
 "nbformat": 4,
 "nbformat_minor": 4
}
