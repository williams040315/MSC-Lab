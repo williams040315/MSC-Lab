{
 "cells": [
  {
   "cell_type": "code",
   "execution_count": 1,
   "metadata": {},
   "outputs": [],
   "source": [
    "import os\n",
    "op = os.path\n",
    "opd, opb, opj = op.dirname, op.basename, op.join\n",
    "os.chdir(opd(os.getcwd()))\n",
    "from matplotlib import pyplot as plt\n",
    "import cv2\n",
    "from modules_unet.count_fluo import COUNT_FLUO as CF"
   ]
  },
  {
   "cell_type": "code",
   "execution_count": 2,
   "metadata": {},
   "outputs": [],
   "source": [
    "def rem_axes(img):\n",
    "    ##  Remove axes, remove axis\n",
    "    dpi_val = 100\n",
    "    fig = plt.figure(figsize=(512/dpi_val, 512/dpi_val), dpi=dpi_val)\n",
    "    ax = plt.Axes(fig, [0., 0., 1., 1.])\n",
    "    ax.set_axis_off()\n",
    "    fig.add_axes(ax)\n",
    "    ax.imshow(img, aspect='equal', cmap='gray')\n",
    "    return img"
   ]
  },
  {
   "cell_type": "code",
   "execution_count": 4,
   "metadata": {},
   "outputs": [
    {
     "name": "stdout",
     "output_type": "stream",
     "text": [
      "Using matplotlib backend: Qt5Agg\n"
     ]
    }
   ],
   "source": [
    "%matplotlib\n",
    "cf = CF()\n",
    "num = 130\n",
    "size_max = 0.1\n",
    "addr_folder_fluo = '/home/meglio/Bureau/Tools/unet/test_code/imgs_fluo_for_otsu_training'\n",
    "fluo_otsu = opj(opd(addr_folder_fluo),'clean_fluo_otsu')\n",
    "os.mkdir(fluo_otsu)\n",
    "for f in os.listdir(addr_folder_fluo):\n",
    "    addr_fluo = opj(addr_folder_fluo,f) #f'frame{num}.tiff'\n",
    "    cf.count_cells(addr_fluo)\n",
    "    img  = cv2.imread( addr_fluo, 0 )\n",
    "    img_init = img.copy()\n",
    "    cntrs = cf.contours\n",
    "    clean_cntrs = [cnt for cnt in cntrs if cv2.contourArea(cnt)> size_max]\n",
    "    cv2.drawContours(img, clean_cntrs, -1, (255, 255, 255), -1)\n",
    "    img = cv2.cvtColor(img, cv2.COLOR_GRAY2BGR)\n",
    "    img = rem_axes(img)\n",
    "    #plt.imshow(img)\n",
    "    plt.savefig(opj(fluo_otsu,f))\n",
    "    #plt.figure()\n",
    "    #img_init = cv2.cvtColor(img_init, cv2.COLOR_GRAY2BGR)\n",
    "    #plt.imshow(img_init)"
   ]
  },
  {
   "cell_type": "code",
   "execution_count": null,
   "metadata": {},
   "outputs": [],
   "source": [
    "addr_fluo = '/home/meglio/Bureau/Tools/unet/test_code/imgs_fluo_for_otsu_training/frame130.tiff'\n",
    "img  = cv2.imread( addr_fluo, 0 )\n",
    "plt.imshow(img)"
   ]
  },
  {
   "cell_type": "code",
   "execution_count": null,
   "metadata": {},
   "outputs": [],
   "source": [
    "os.listdir(addr_folder_fluo)"
   ]
  },
  {
   "cell_type": "code",
   "execution_count": null,
   "metadata": {},
   "outputs": [],
   "source": []
  }
 ],
 "metadata": {
  "kernelspec": {
   "display_name": "Python 3",
   "language": "python",
   "name": "python3"
  },
  "language_info": {
   "codemirror_mode": {
    "name": "ipython",
    "version": 3
   },
   "file_extension": ".py",
   "mimetype": "text/x-python",
   "name": "python",
   "nbconvert_exporter": "python",
   "pygments_lexer": "ipython3",
   "version": "3.7.6"
  }
 },
 "nbformat": 4,
 "nbformat_minor": 4
}
