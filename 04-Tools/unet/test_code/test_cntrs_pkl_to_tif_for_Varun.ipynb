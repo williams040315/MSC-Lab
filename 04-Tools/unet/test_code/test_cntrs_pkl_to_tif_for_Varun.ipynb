{
 "cells": [
  {
   "cell_type": "code",
   "execution_count": 34,
   "metadata": {},
   "outputs": [],
   "source": [
    "import os, re\n",
    "import json\n",
    "import shutil as sh\n",
    "from datetime import datetime\n",
    "from pathlib import Path\n",
    "import pickle as pkl\n",
    "from matplotlib import pyplot as plt\n",
    "from PIL import Image\n",
    "import cv2\n",
    "import numpy as np\n",
    "from scipy.linalg import norm\n",
    "from skimage import io"
   ]
  },
  {
   "cell_type": "code",
   "execution_count": 35,
   "metadata": {},
   "outputs": [],
   "source": [
    "#root = 'size_cntrs/proc_25-11-2020-09-39' \n",
    "root = 'pkl_to_tif'\n",
    "addr_pkl = Path(root) / 'pkl_cntrs_GrowthRate520191016_84027_PM_f0000_movie_cleaned_BF_training-cell_v3-ep5-bs4-fl_date04-10-2020-13-18_sp5_25-11-2020-19-12.pkl'\n",
    "with open(addr_pkl, 'rb') as f:\n",
    "    cntrs = pkl.load(f)"
   ]
  },
  {
   "cell_type": "code",
   "execution_count": 36,
   "metadata": {},
   "outputs": [],
   "source": [
    "def bigger_cntrs(dic_cntrs, fact=4):\n",
    "    '''\n",
    "    '''\n",
    "    new_cntrs = {}\n",
    "    for j,lc in dic_cntrs.items():\n",
    "        new_cntrs[j] = []\n",
    "        for c in lc:\n",
    "            new_cntrs[j] += [fact*c]\n",
    "    return new_cntrs"
   ]
  },
  {
   "cell_type": "code",
   "execution_count": 37,
   "metadata": {},
   "outputs": [],
   "source": [
    "dic_new_cntrs = bigger_cntrs(cntrs, fact=4)"
   ]
  },
  {
   "cell_type": "markdown",
   "metadata": {},
   "source": [
    "## Test segmentation sur 512x512"
   ]
  },
  {
   "cell_type": "code",
   "execution_count": 39,
   "metadata": {},
   "outputs": [
    {
     "name": "stdout",
     "output_type": "stream",
     "text": [
      "Using matplotlib backend: Qt5Agg\n"
     ]
    },
    {
     "name": "stderr",
     "output_type": "stream",
     "text": [
      "/home/meglio/anaconda3/lib/python3.7/site-packages/ipykernel_launcher.py:10: UserWarning: track_segm_tif/img_cntrs0_2k.tif is a low contrast image\n",
      "  # Remove the CWD from sys.path while we load stuff.\n",
      "/home/meglio/anaconda3/lib/python3.7/site-packages/ipykernel_launcher.py:10: UserWarning: track_segm_tif/img_cntrs1_2k.tif is a low contrast image\n",
      "  # Remove the CWD from sys.path while we load stuff.\n",
      "/home/meglio/anaconda3/lib/python3.7/site-packages/ipykernel_launcher.py:10: UserWarning: track_segm_tif/img_cntrs2_2k.tif is a low contrast image\n",
      "  # Remove the CWD from sys.path while we load stuff.\n",
      "/home/meglio/anaconda3/lib/python3.7/site-packages/ipykernel_launcher.py:10: UserWarning: track_segm_tif/img_cntrs3_2k.tif is a low contrast image\n",
      "  # Remove the CWD from sys.path while we load stuff.\n",
      "/home/meglio/anaconda3/lib/python3.7/site-packages/ipykernel_launcher.py:10: UserWarning: track_segm_tif/img_cntrs4_2k.tif is a low contrast image\n",
      "  # Remove the CWD from sys.path while we load stuff.\n",
      "/home/meglio/anaconda3/lib/python3.7/site-packages/ipykernel_launcher.py:10: UserWarning: track_segm_tif/img_cntrs5_2k.tif is a low contrast image\n",
      "  # Remove the CWD from sys.path while we load stuff.\n",
      "/home/meglio/anaconda3/lib/python3.7/site-packages/ipykernel_launcher.py:10: UserWarning: track_segm_tif/img_cntrs6_2k.tif is a low contrast image\n",
      "  # Remove the CWD from sys.path while we load stuff.\n",
      "/home/meglio/anaconda3/lib/python3.7/site-packages/ipykernel_launcher.py:10: UserWarning: track_segm_tif/img_cntrs7_2k.tif is a low contrast image\n",
      "  # Remove the CWD from sys.path while we load stuff.\n",
      "/home/meglio/anaconda3/lib/python3.7/site-packages/ipykernel_launcher.py:10: UserWarning: track_segm_tif/img_cntrs8_2k.tif is a low contrast image\n",
      "  # Remove the CWD from sys.path while we load stuff.\n",
      "/home/meglio/anaconda3/lib/python3.7/site-packages/ipykernel_launcher.py:10: UserWarning: track_segm_tif/img_cntrs9_2k.tif is a low contrast image\n",
      "  # Remove the CWD from sys.path while we load stuff.\n",
      "/home/meglio/anaconda3/lib/python3.7/site-packages/ipykernel_launcher.py:10: UserWarning: track_segm_tif/img_cntrs11_2k.tif is a low contrast image\n",
      "  # Remove the CWD from sys.path while we load stuff.\n",
      "/home/meglio/anaconda3/lib/python3.7/site-packages/ipykernel_launcher.py:10: UserWarning: track_segm_tif/img_cntrs12_2k.tif is a low contrast image\n",
      "  # Remove the CWD from sys.path while we load stuff.\n",
      "/home/meglio/anaconda3/lib/python3.7/site-packages/ipykernel_launcher.py:10: UserWarning: track_segm_tif/img_cntrs13_2k.tif is a low contrast image\n",
      "  # Remove the CWD from sys.path while we load stuff.\n",
      "/home/meglio/anaconda3/lib/python3.7/site-packages/ipykernel_launcher.py:10: UserWarning: track_segm_tif/img_cntrs14_2k.tif is a low contrast image\n",
      "  # Remove the CWD from sys.path while we load stuff.\n",
      "/home/meglio/anaconda3/lib/python3.7/site-packages/ipykernel_launcher.py:10: UserWarning: track_segm_tif/img_cntrs15_2k.tif is a low contrast image\n",
      "  # Remove the CWD from sys.path while we load stuff.\n",
      "/home/meglio/anaconda3/lib/python3.7/site-packages/ipykernel_launcher.py:10: UserWarning: track_segm_tif/img_cntrs16_2k.tif is a low contrast image\n",
      "  # Remove the CWD from sys.path while we load stuff.\n",
      "/home/meglio/anaconda3/lib/python3.7/site-packages/ipykernel_launcher.py:10: UserWarning: track_segm_tif/img_cntrs17_2k.tif is a low contrast image\n",
      "  # Remove the CWD from sys.path while we load stuff.\n",
      "/home/meglio/anaconda3/lib/python3.7/site-packages/ipykernel_launcher.py:10: UserWarning: track_segm_tif/img_cntrs18_2k.tif is a low contrast image\n",
      "  # Remove the CWD from sys.path while we load stuff.\n",
      "/home/meglio/anaconda3/lib/python3.7/site-packages/ipykernel_launcher.py:10: UserWarning: track_segm_tif/img_cntrs19_2k.tif is a low contrast image\n",
      "  # Remove the CWD from sys.path while we load stuff.\n",
      "/home/meglio/anaconda3/lib/python3.7/site-packages/ipykernel_launcher.py:5: RuntimeWarning: More than 20 figures have been opened. Figures created through the pyplot interface (`matplotlib.pyplot.figure`) are retained until explicitly closed and may consume too much memory. (To control this warning, see the rcParam `figure.max_open_warning`).\n",
      "  \"\"\"\n",
      "/home/meglio/anaconda3/lib/python3.7/site-packages/ipykernel_launcher.py:10: UserWarning: track_segm_tif/img_cntrs34_2k.tif is a low contrast image\n",
      "  # Remove the CWD from sys.path while we load stuff.\n"
     ]
    }
   ],
   "source": [
    "%matplotlib\n",
    "\n",
    "for i, curr_cntrs in enumerate(dic_new_cntrs.values()):\n",
    "    #num = 0\n",
    "    plt.figure()\n",
    "    h, w = 2048, 2048 #512, 512\n",
    "    mask = np.zeros( ( h, w ), np.uint8  )\n",
    "    img = cv2.drawContours( mask, curr_cntrs, -1, (255, 255, 255), -1 ) # fill contour\n",
    "    #cv2.imwrite('img_cntrs_orig_format.png',img)\n",
    "    io.imsave(f'track_segm_tif/img_cntrs{i}_2k.tif', img)\n",
    "    #plt.imshow(img)"
   ]
  },
  {
   "cell_type": "code",
   "execution_count": 33,
   "metadata": {},
   "outputs": [
    {
     "data": {
      "text/plain": [
       "120"
      ]
     },
     "execution_count": 33,
     "metadata": {},
     "output_type": "execute_result"
    }
   ],
   "source": [
    "len(dic_new_cntrs.values())"
   ]
  },
  {
   "cell_type": "code",
   "execution_count": null,
   "metadata": {},
   "outputs": [],
   "source": []
  }
 ],
 "metadata": {
  "kernelspec": {
   "display_name": "Python 3",
   "language": "python",
   "name": "python3"
  },
  "language_info": {
   "codemirror_mode": {
    "name": "ipython",
    "version": 3
   },
   "file_extension": ".py",
   "mimetype": "text/x-python",
   "name": "python",
   "nbconvert_exporter": "python",
   "pygments_lexer": "ipython3",
   "version": "3.7.6"
  }
 },
 "nbformat": 4,
 "nbformat_minor": 4
}
