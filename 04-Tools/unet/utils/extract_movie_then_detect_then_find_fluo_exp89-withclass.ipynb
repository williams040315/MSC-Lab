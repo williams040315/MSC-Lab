{
 "cells": [
  {
   "cell_type": "code",
   "execution_count": 1,
   "metadata": {
    "scrolled": false
   },
   "outputs": [],
   "source": [
    "import os\n",
    "op = os.path\n",
    "opd, opb, opj = op.dirname, op.basename, op.join\n",
    "os.chdir(opd(os.getcwd()))\n",
    "from modules_unet.util import UTIL\n",
    "ut = UTIL()\n",
    "from modules_analyse.full_processing import FULL_PROC"
   ]
  },
  {
   "cell_type": "code",
   "execution_count": 2,
   "metadata": {},
   "outputs": [],
   "source": [
    "dir_data = '/media/meglio/Seagate/Curie/data_Celine/data_3nov2020'\n",
    "dir_exp = 'Exp89_05112019/GrowthRate1320191105_70418 PM_20191106_70128 AM' "
   ]
  },
  {
   "cell_type": "code",
   "execution_count": 3,
   "metadata": {},
   "outputs": [
    {
     "name": "stdout",
     "output_type": "stream",
     "text": [
      "/home/meglio/Bureau/data/Exp89_extract_28-11-2020-21-43\n"
     ]
    }
   ],
   "source": [
    "#dest = f'/home/meglio/Bureau/data/Exp89_extract_{ut.date()}'   # Destination\n",
    "dest = '/home/meglio/Bureau/data/Exp89_extract_28-11-2020-21-43'\n",
    "print(dest)\n",
    "root_file = 'GrowthRate1320191105_70418 PM_f00'\n",
    "list_layers = ['BF', 'fluo1']"
   ]
  },
  {
   "cell_type": "code",
   "execution_count": 4,
   "metadata": {},
   "outputs": [],
   "source": [
    "fp = FULL_PROC(dir_data, dir_exp, root_file, list_layers, dest)"
   ]
  },
  {
   "cell_type": "markdown",
   "metadata": {},
   "source": [
    "## Extract layers"
   ]
  },
  {
   "cell_type": "code",
   "execution_count": null,
   "metadata": {},
   "outputs": [],
   "source": [
    "fp.extract_layers_of_list_tif(list_tif=range(1))"
   ]
  },
  {
   "cell_type": "markdown",
   "metadata": {},
   "source": [
    "## Segment and track"
   ]
  },
  {
   "cell_type": "code",
   "execution_count": null,
   "metadata": {},
   "outputs": [],
   "source": [
    "fp.segm_track_list_tif(list_tif=range(1))"
   ]
  },
  {
   "cell_type": "markdown",
   "metadata": {},
   "source": [
    "## Analyse"
   ]
  },
  {
   "cell_type": "code",
   "execution_count": 5,
   "metadata": {
    "scrolled": true
   },
   "outputs": [
    {
     "name": "stdout",
     "output_type": "stream",
     "text": [
      "addr_cntrs is /home/meglio/Bureau/data/Exp89_extract_28-11-2020-21-43/GrowthRate1320191105_70418_PM_f0000/processings/proc_28-11-2020-22-18/pkl_cntrs_GrowthRate1320191105_70418_PM_f0000_movie_cleaned_BF_training-cell_v3-ep5-bs4-fl_date04-10-2020-13-18_sp5_28-11-2020-22-19.pkl\n",
      "addr_fluo is /home/meglio/Bureau/data/Exp89_extract_28-11-2020-21-43/GrowthRate1320191105_70418_PM_f0000\n"
     ]
    },
    {
     "name": "stderr",
     "output_type": "stream",
     "text": [
      "No handles with labels found to put in legend.\n"
     ]
    },
    {
     "name": "stdout",
     "output_type": "stream",
     "text": [
      "[[1192], [1052]]\n",
      "[[1192], [1052]]\n",
      "[744.0, 432.0, 408.0, 408.0, 688.0, 688.0, 576.0, 576.0, 848.0, 848.0]\n",
      "[744.0, 432.0, 408.0, 408.0, 688.0, 688.0, 576.0, 576.0, 848.0, 848.0]\n",
      "[592.0, 584.0, 592.0, 592.0, 616.0, 616.0, 560.0, 560.0, 520.0, 520.0]\n",
      "[592.0, 584.0, 592.0, 592.0, 616.0, 616.0, 560.0, 560.0, 520.0, 520.0]\n",
      "[1040.0, 1192.0, 1184.0, 1184.0, 1280.0, 1280.0, 1240.0, 1240.0, 1216.0, 1216.0]\n",
      "[1040.0, 1192.0, 1184.0, 1184.0, 1280.0, 1280.0, 1240.0, 1240.0, 1216.0, 1216.0]\n",
      "[520.0, 528.0, 544.0, 544.0, 584.0, 584.0, 624.0, 624.0, 528.0, 528.0]\n",
      "[520.0, 528.0, 544.0, 544.0, 584.0, 584.0, 624.0, 624.0, 528.0, 528.0]\n",
      "[496.0, 1576.0, 1272.0, 1272.0, 1344.0, 1344.0, 848.0, 848.0, 1136.0, 1136.0]\n",
      "[496.0, 1576.0, 1272.0, 1272.0, 1344.0, 1344.0, 848.0, 848.0, 1136.0, 1136.0]\n",
      "[1184.0, 576.0, 640.0, 640.0, 696.0, 696.0, 712.0, 712.0, 848.0, 848.0]\n",
      "[1184.0, 576.0, 640.0, 640.0, 696.0, 696.0, 712.0, 712.0, 848.0, 848.0]\n",
      "[512.0, 1224.0, 1144.0, 1144.0, 1224.0, 1224.0, 1184.0, 1184.0, 1160.0, 1160.0]\n",
      "[512.0, 1224.0, 1144.0, 1144.0, 1224.0, 1224.0, 1184.0, 1184.0, 1160.0, 1160.0]\n",
      "[704.0, 712.0, 712.0, 712.0, 768.0, 768.0, 608.0, 608.0, 784.0, 784.0]\n",
      "[704.0, 712.0, 712.0, 712.0, 768.0, 768.0, 608.0, 608.0, 784.0, 784.0]\n",
      "[0.0, 1504.0, 1488.0, 1488.0, 1184.0, 1184.0, 1184.0, 1184.0, 1192.0, 1192.0]\n",
      "[0.0, 1504.0, 1488.0, 1488.0, 1184.0, 1184.0, 1184.0, 1184.0, 1192.0, 1192.0]\n",
      "[16.0, 760.0, 808.0, 808.0, 712.0, 712.0, 744.0, 744.0, 920.0, 920.0]\n",
      "[16.0, 760.0, 808.0, 808.0, 712.0, 712.0, 744.0, 744.0, 920.0, 920.0]\n",
      "[8.0, 464.0, 136.0, 136.0, 408.0, 408.0, 464.0, 464.0, 408.0, 408.0]\n",
      "[8.0, 464.0, 136.0, 136.0, 408.0, 408.0, 464.0, 464.0, 408.0, 408.0]\n",
      "[848.0, 1400.0, 1216.0, 1216.0, 1448.0, 1448.0, 1024.0, 1024.0, 1568.0, 1568.0]\n",
      "[848.0, 1400.0, 1216.0, 1216.0, 1448.0, 1448.0, 1024.0, 1024.0, 1568.0, 1568.0]\n",
      "[1272.0, 2072.0, 2192.0, 2192.0, 1992.0, 1992.0, 1544.0, 1544.0, 2160.0, 2160.0]\n",
      "[1272.0, 2072.0, 2192.0, 2192.0, 1992.0, 1992.0, 1544.0, 1544.0, 2160.0, 2160.0]\n",
      "[816.0, 184.0, 336.0, 336.0, 568.0, 568.0, 720.0, 720.0, 816.0, 816.0]\n",
      "[816.0, 184.0, 336.0, 336.0, 568.0, 568.0, 720.0, 720.0, 816.0, 816.0]\n",
      "[736.0, 736.0, 752.0, 752.0, 672.0, 672.0, 488.0, 488.0, 712.0, 712.0]\n",
      "[736.0, 736.0, 752.0, 752.0, 672.0, 672.0, 488.0, 488.0, 712.0, 712.0]\n",
      "[0, 0, 136.0, 136.0, 312.0, 312.0, 664.0, 664.0, 640.0, 640.0]\n",
      "[0, 0, 136.0, 136.0, 312.0, 312.0, 664.0, 664.0, 640.0, 640.0]\n",
      "[0, 0, 0.0, 0.0, 272.0, 272.0, 432.0, 432.0, 784.0, 784.0]\n",
      "[0, 0, 0.0, 0.0, 272.0, 272.0, 432.0, 432.0, 784.0, 784.0]\n",
      "[0, 0, 0, 0, 96.0, 96.0, 296.0, 296.0, 416.0, 416.0]\n",
      "[0, 0, 0, 0, 96.0, 96.0, 296.0, 296.0, 416.0, 416.0]\n",
      "[0, 0, 0, 0, 0, 0, 568.0, 568.0, 736.0, 736.0]\n",
      "[0, 0, 0, 0, 0, 0, 568.0, 568.0, 736.0, 736.0]\n",
      "[0, 0, 0, 0, 0, 0, 24.0, 24.0, 296.0, 296.0]\n",
      "[0, 0, 0, 0, 0, 0, 24.0, 24.0, 296.0, 296.0]\n",
      "[0, 0, 0, 0, 0, 0, 456.0, 456.0, 496.0, 496.0]\n",
      "[0, 0, 0, 0, 0, 0, 456.0, 456.0, 496.0, 496.0]\n",
      "[0, 0, 0, 0, 0, 0, 0, 0, 8.0, 8.0]\n",
      "[0, 0, 0, 0, 0, 0, 0, 0, 8.0, 8.0]\n",
      "[0, 0, 0, 0, 0, 0, 0, 0, 120.0, 120.0]\n",
      "[0, 0, 0, 0, 0, 0, 0, 0, 120.0, 120.0]\n",
      "[0, 0, 0, 0, 0, 0, 0, 0, 200.0, 200.0]\n",
      "[0, 0, 0, 0, 0, 0, 0, 0, 200.0, 200.0]\n",
      "[0, 0, 0, 0, 0, 0, 0, 0, 0, 0]\n",
      "[0, 0, 0, 0, 0, 0, 0, 0, 0, 0]\n",
      "[0, 0, 0, 0, 0, 0, 0, 0, 0, 0]\n",
      "[0, 0, 0, 0, 0, 0, 0, 0, 0, 0]\n",
      "[0, 0, 0, 0, 0, 0, 0, 0, 0, 0]\n",
      "[0, 0, 0, 0, 0, 0, 0, 0, 0, 0]\n",
      "[0, 0, 0, 0, 0, 0, 0, 0, 0, 0]\n",
      "[0, 0, 0, 0, 0, 0, 0, 0, 0, 0]\n",
      "[0, 0, 0, 0, 0, 0, 0, 0, 0, 0]\n",
      "[0, 0, 0, 0, 0, 0, 0, 0, 0, 0]\n",
      "[0, 0, 0, 0, 0, 0, 0, 0, 0, 0]\n",
      "[0, 0, 0, 0, 0, 0, 0, 0, 0, 0]\n",
      "[0, 0, 0, 0, 0, 0, 0, 0, 0, 0]\n",
      "[0, 0, 0, 0, 0, 0, 0, 0, 0, 0]\n",
      "[0, 0, 0, 0, 0, 0, 0, 0, 0, 0]\n",
      "[0, 0, 0, 0, 0, 0, 0, 0, 0, 0]\n",
      "[0, 0, 0, 0, 0, 0, 0, 0, 0, 0]\n",
      "[0, 0, 0, 0, 0, 0, 0, 0, 0, 0]\n",
      "[0, 0, 0, 0, 0, 0, 0, 0, 0, 0]\n",
      "[0, 0, 0, 0, 0, 0, 0, 0, 0, 0]\n",
      "[0, 0, 0, 0, 0, 0, 0, 0, 0, 0]\n",
      "[0, 0, 0, 0, 0, 0, 0, 0, 0, 0]\n",
      "[0, 0, 0, 0, 0, 0, 0, 0, 0, 0]\n",
      "[0, 0, 0, 0, 0, 0, 0, 0, 0, 0]\n",
      "[0, 0, 0, 0, 0, 0, 0, 0, 0, 0]\n",
      "[0, 0, 0, 0, 0, 0, 0, 0, 0, 0]\n",
      "[0, 0, 0, 0, 0, 0, 0, 0, 0, 0]\n",
      "[0, 0, 0, 0, 0, 0, 0, 0, 0, 0]\n",
      "[0, 0, 0, 0, 0, 0, 0, 0, 0, 0]\n",
      "[0, 0, 0, 0, 0, 0, 0, 0, 0, 0]\n",
      "[0, 0, 0, 0, 0, 0, 0, 0, 0, 0]\n",
      "[0, 0, 0, 0, 0, 0, 0, 0, 0, 0]\n",
      "[0, 0, 0, 0, 0, 0, 0, 0, 0, 0]\n",
      "[0, 0, 0, 0, 0, 0, 0, 0, 0, 0]\n",
      "[0, 0, 0, 0, 0, 0, 0, 0, 0, 0]\n",
      "[0, 0, 0, 0, 0, 0, 0, 0, 0, 0]\n",
      "[0, 0, 0, 0, 0, 0, 0, 0, 0, 0]\n",
      "[0, 0, 0, 0, 0, 0, 0, 0, 0, 0]\n",
      "[0, 0, 0, 0, 0, 0, 0, 0, 0, 0]\n",
      "[0, 0, 0, 0, 0, 0, 0, 0, 0, 0]\n",
      "[0, 0, 0, 0, 0, 0, 0, 0, 0, 0]\n",
      "[0, 0, 0, 0, 0, 0, 0, 0, 0, 0]\n",
      "[0, 0, 0, 0, 0, 0, 0, 0, 0, 0]\n",
      "[0, 0, 0, 0, 0, 0, 0, 0, 0, 0]\n",
      "[0, 0, 0, 0, 0, 0, 0, 0, 0, 0]\n",
      "[0, 0, 0, 0, 0, 0, 0, 0, 0, 0]\n",
      "[0, 0, 0, 0, 0, 0, 0, 0, 0, 0]\n",
      "[0, 0, 0, 0, 0, 0, 0, 0, 0, 0]\n",
      "[0, 0, 0, 0, 0, 0, 0, 0, 0, 0]\n",
      "[0, 0, 0, 0, 0, 0, 0, 0, 0, 0]\n",
      "[0, 0, 0, 0, 0, 0, 0, 0, 0, 0]\n",
      "[0, 0, 0, 0, 0, 0, 0, 0, 0, 0]\n",
      "[0, 0, 0, 0, 0, 0, 0, 0, 0, 0]\n",
      "[0, 0, 0, 0, 0, 0, 0, 0, 0, 0]\n",
      "[0, 0, 0, 0, 0, 0, 0, 0, 0, 0]\n",
      "[0, 0, 0, 0, 0, 0, 0, 0, 0, 0]\n",
      "[0, 0, 0, 0, 0, 0, 0, 0, 0, 0]\n",
      "[0, 0, 0, 0, 0, 0, 0, 0, 0, 0]\n",
      "[0, 0, 0, 0, 0, 0, 0, 0, 0, 0]\n",
      "[0, 0, 0, 0, 0, 0, 0, 0, 0, 0]\n",
      "[0, 0, 0, 0, 0, 0, 0, 0, 0, 0]\n",
      "[0, 0, 0, 0, 0, 0, 0, 0, 0, 0]\n",
      "[0, 0, 0, 0, 0, 0, 0, 0, 0, 0]\n",
      "[0, 0, 0, 0, 0, 0, 0, 0, 0, 0]\n",
      "[0, 0, 0, 0, 0, 0, 0, 0, 0, 0]\n",
      "[0, 0, 0, 0, 0, 0, 0, 0, 0, 0]\n",
      "[0, 0, 0, 0, 0, 0, 0, 0, 0, 0]\n",
      "[0, 0, 0, 0, 0, 0, 0, 0, 0, 0]\n",
      "[0, 0, 0, 0, 0, 0, 0, 0, 0, 0]\n",
      "[0, 0, 0, 0, 0, 0, 0, 0, 0, 0]\n",
      "[0, 0, 0, 0, 0, 0, 0, 0, 0, 0]\n",
      "[0, 0, 0, 0, 0, 0, 0, 0, 0, 0]\n",
      "[0, 0, 0, 0, 0, 0, 0, 0, 0, 0]\n",
      "[0, 0, 0, 0, 0, 0, 0, 0, 0, 0]\n",
      "[0, 0, 0, 0, 0, 0, 0, 0, 0, 0]\n",
      "[0, 0, 0, 0, 0, 0, 0, 0, 0, 0]\n",
      "[0, 0, 0, 0, 0, 0, 0, 0, 0, 0]\n",
      "[0, 0, 0, 0, 0, 0, 0, 0, 0, 0]\n",
      "[0, 0, 0, 0, 0, 0, 0, 0, 0, 0]\n",
      "[0, 0, 0, 0, 0, 0, 0, 0, 0, 0]\n",
      "[0, 0, 0, 0, 0, 0, 0, 0, 0, 0]\n",
      "[0, 0, 0, 0, 0, 0, 0, 0, 0, 0]\n",
      "[0, 0, 0, 0, 0, 0, 0, 0, 0, 0]\n",
      "[0, 0, 0, 0, 0, 0, 0, 0, 0, 0]\n",
      "[0, 0, 0, 0, 0, 0, 0, 0, 0, 0]\n",
      "[0, 0, 0, 0, 0, 0, 0, 0, 0, 0]\n",
      "[0, 0, 0, 0, 0, 0, 0, 0, 0, 0]\n",
      "[0, 0, 0, 0, 0, 0, 0, 0, 0, 0]\n",
      "[0, 0, 0, 0, 0, 0, 0, 0, 0, 0]\n",
      "[0, 0, 0, 0, 0, 0, 0, 0, 0, 0]\n",
      "[0, 0, 0, 0, 0, 0, 0, 0, 0, 0]\n",
      "[0, 0, 0, 0, 0, 0, 0, 0, 0, 0]\n",
      "[0, 0, 0, 0, 0, 0, 0, 0, 0, 0]\n",
      "[0, 0, 0, 0, 0, 0, 0, 0, 0, 0]\n",
      "[0, 0, 0, 0, 0, 0, 0, 0, 0, 0]\n",
      "[0, 0, 0, 0, 0, 0, 0, 0, 0, 0]\n",
      "[0, 0, 0, 0, 0, 0, 0, 0, 0, 0]\n",
      "[0, 0, 0, 0, 0, 0, 0, 0, 0, 0]\n",
      "[0, 0, 0, 0, 0, 0, 0, 0, 0, 0]\n",
      "[0, 0, 0, 0, 0, 0, 0, 0, 0, 0]\n",
      "[0, 0, 0, 0, 0, 0, 0, 0, 0, 0]\n",
      "[0, 0, 0, 0, 0, 0, 0, 0, 0, 0]\n",
      "[0, 0, 0, 0, 0, 0, 0, 0, 0, 0]\n",
      "[0, 0, 0, 0, 0, 0, 0, 0, 0, 0]\n",
      "[0, 0, 0, 0, 0, 0, 0, 0, 0, 0]\n",
      "[0, 0, 0, 0, 0, 0, 0, 0, 0, 0]\n",
      "[0, 0, 0, 0, 0, 0, 0, 0, 0, 0]\n",
      "[0, 0, 0, 0, 0, 0, 0, 0, 0, 0]\n",
      "[0, 0, 0, 0, 0, 0, 0, 0, 0, 0]\n",
      "[0, 0, 0, 0, 0, 0, 0, 0, 0, 0]\n",
      "[0, 0, 0, 0, 0, 0, 0, 0, 0, 0]\n",
      "[0, 0, 0, 0, 0, 0, 0, 0, 0, 0]\n",
      "[0, 0, 0, 0, 0, 0, 0, 0, 0, 0]\n",
      "[0, 0, 0, 0, 0, 0, 0, 0, 0, 0]\n",
      "[0, 0, 0, 0, 0, 0, 0, 0, 0, 0]\n",
      "[0, 0, 0, 0, 0, 0, 0, 0, 0, 0]\n",
      "[0, 0, 0, 0, 0, 0, 0, 0, 0, 0]\n",
      "[0, 0, 0, 0, 0, 0, 0, 0, 0, 0]\n",
      "[0, 0, 0, 0, 0, 0, 0, 0, 0, 0]\n",
      "[0, 0, 0, 0, 0, 0, 0, 0, 0, 0]\n",
      "[0, 0, 0, 0, 0, 0, 0, 0, 0, 0]\n",
      "[0, 0, 0, 0, 0, 0, 0, 0, 0, 0]\n",
      "[0, 0, 0, 0, 0, 0, 0, 0, 0, 0]\n",
      "[0, 0, 0, 0, 0, 0, 0, 0, 0, 0]\n",
      "[0, 0, 0, 0, 0, 0, 0, 0, 0, 0]\n",
      "[0, 0, 0, 0, 0, 0, 0, 0, 0, 0]\n",
      "[0, 0, 0, 0, 0, 0, 0, 0, 0, 0]\n",
      "[0, 0, 0, 0, 0, 0, 0, 0, 0, 0]\n",
      "[0, 0, 0, 0, 0, 0, 0, 0, 0, 0]\n",
      "[0, 0, 0, 0, 0, 0, 0, 0, 0, 0]\n",
      "[0, 0, 0, 0, 0, 0, 0, 0, 0, 0]\n",
      "[0, 0, 0, 0, 0, 0, 0, 0, 0, 0]\n",
      "[0, 0, 0, 0, 0, 0, 0, 0, 0, 0]\n",
      "[0, 0, 0, 0, 0, 0, 0, 0, 0, 0]\n",
      "[0, 0, 0, 0, 0, 0, 0, 0, 0, 0]\n",
      "[0, 0, 0, 0, 0, 0, 0, 0, 0, 0]\n",
      "[0, 0, 0, 0, 0, 0, 0, 0, 0, 0]\n",
      "[0, 0, 0, 0, 0, 0, 0, 0, 0, 0]\n",
      "[0, 0, 0, 0, 0, 0, 0, 0, 0, 0]\n",
      "[0, 0, 0, 0, 0, 0, 0, 0, 0, 0]\n",
      "[0, 0, 0, 0, 0, 0, 0, 0, 0, 0]\n",
      "[0, 0, 0, 0, 0, 0, 0, 0, 0, 0]\n",
      "[0, 0, 0, 0, 0, 0, 0, 0, 0, 0]\n",
      "[0, 0, 0, 0, 0, 0, 0, 0, 0, 0]\n",
      "[0, 0, 0, 0, 0, 0, 0, 0, 0, 0]\n",
      "[0, 0, 0, 0, 0, 0, 0, 0, 0, 0]\n",
      "[0, 0, 0, 0, 0, 0, 0, 0, 0, 0]\n",
      "[0, 0, 0, 0, 0, 0, 0, 0, 0, 0]\n",
      "[0, 0, 0, 0, 0, 0, 0, 0, 0, 0]\n",
      "[0, 0, 0, 0, 0, 0, 0, 0, 0, 0]\n",
      "[0, 0, 0, 0, 0, 0, 0, 0, 0, 0]\n",
      "[0, 0, 0, 0, 0, 0, 0, 0, 0, 0]\n",
      "time elapsed is 2.4602973262468972 min\n"
     ]
    },
    {
     "data": {
      "image/png": "[encoded data removed]",
      "text/plain": [
       "<Figure size 432x288 with 1 Axes>"
      ]
     },
     "metadata": {
      "needs_background": "light"
     },
     "output_type": "display_data"
    }
   ],
   "source": [
    "fp.extract_infos_from_procs_and_tif(load_fluo=1,list_tif=range(1))"
   ]
  },
  {
   "cell_type": "code",
   "execution_count": null,
   "metadata": {},
   "outputs": [],
   "source": []
  }
 ],
 "metadata": {
  "kernelspec": {
   "display_name": "Python 3",
   "language": "python",
   "name": "python3"
  },
  "language_info": {
   "codemirror_mode": {
    "name": "ipython",
    "version": 3
   },
   "file_extension": ".py",
   "mimetype": "text/x-python",
   "name": "python",
   "nbconvert_exporter": "python",
   "pygments_lexer": "ipython3",
   "version": "3.7.6"
  }
 },
 "nbformat": 4,
 "nbformat_minor": 4
}
