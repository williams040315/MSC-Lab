{
 "cells": [
  {
   "cell_type": "code",
   "execution_count": 3,
   "metadata": {},
   "outputs": [
    {
     "name": "stdout",
     "output_type": "stream",
     "text": [
      "/home/meglio/Bureau/git/Tools/unet\n"
     ]
    }
   ],
   "source": [
    "#%matplotlib\n",
    "import os, sys, glob\n",
    "op = os.path\n",
    "opd, opb, opj = op.dirname, op.basename, op.join\n",
    "opa = op.abspath\n",
    "from time import time\n",
    "import pickle as pkl\n",
    "import inspect as insp\n",
    "from pathlib import Path\n",
    "from PIL import Image\n",
    "import numpy as np\n",
    "from skimage import io\n",
    "##\n",
    "from matplotlib import pyplot as plt\n",
    "##\n",
    "import cv2\n",
    "##\n",
    "currdir = opd(opa(insp.getfile(insp.currentframe()))) # current dir at level above.. \n",
    "parentdir = opd(currdir)\n",
    "sys.path.insert(0,parentdir) \n",
    "print(parentdir)\n",
    "\n",
    "from utils.sep_tif_layers import SEP_TIF_LAYERS as STL\n",
    "from analyse_results import ANALYSE_RESULTS as AR\n",
    "from modules_unet.util import UTIL \n",
    "ut = UTIL()"
   ]
  },
  {
   "cell_type": "raw",
   "metadata": {},
   "source": [
    "    def resize_img(self, img, debug=0):\n",
    "        '''\n",
    "        Resize the images to the size : self.size\n",
    "        '''\n",
    "        res = cv2.resize(img, dsize=(self.size, self.size), interpolation=cv2.INTER_CUBIC) # dsize=(512, 512)\n",
    "        if debug > 0:\n",
    "            print(\"res.shape \", res.shape)\n",
    "        ##  Remove axes, remove axis\n",
    "        dpi_val = 100\n",
    "        fig = plt.figure(figsize=(self.size/dpi_val, self.size/dpi_val), dpi=dpi_val)\n",
    "        ax = plt.Axes(fig, [0., 0., 1., 1.])\n",
    "        ax.set_axis_off()\n",
    "        fig.add_axes(ax)\n",
    "        ax.imshow(res, aspect='equal', cmap='gray')\n",
    "\n",
    "    def read_extract_tif(self):\n",
    "        '''\n",
    "        Read tif videos and extract images\n",
    "        '''\n",
    "        print(\"The selected stack is a .tif\")\n",
    "        dataset = Image.open(self.film_addr)\n",
    "        h,w = np.shape(dataset)\n",
    "        for i in range(dataset.n_frames):\n",
    "            addr_img = str(self.output_folder / f\"frame{i}.{self.ext}\")\n",
    "            print(addr_img)\n",
    "            dataset.seek(i)\n",
    "            img = np.array(dataset).astype(np.double)\n",
    "            #print(\"img.shape \", img.shape)\n",
    "            self.resize_img(img)\n",
    "            plt.savefig( addr_img, dpi=100 )       # save frame in self.output_folder\n",
    "            self.save_gray(addr_img)               # triggered if self.args.gray_img True"
   ]
  },
  {
   "cell_type": "code",
   "execution_count": null,
   "metadata": {},
   "outputs": [],
   "source": [
    "def resize_img(img, debug=0):\n",
    "    '''\n",
    "    Resize the images to the size : self.size\n",
    "    '''\n",
    "    res = cv2.resize(img, dsize=(512,512), interpolation=cv2.INTER_CUBIC) # dsize=(512, 512)\n",
    "    if debug > 0:\n",
    "        print(\"res.shape \", res.shape)\n",
    "    ##  Remove axes, remove axis\n",
    "    dpi_val = 100\n",
    "    fig = plt.figure(figsize=(512/dpi_val, 512/dpi_val), dpi=dpi_val)\n",
    "    ax = plt.Axes(fig, [0., 0., 1., 1.])\n",
    "    ax.set_axis_off()\n",
    "    fig.add_axes(ax)\n",
    "    ax.imshow(res, aspect='equal', cmap='gray')\n",
    "    return img\n",
    "\n",
    "def read_extract_tif(film_addr, num):\n",
    "    '''\n",
    "    Read tif videos and extract images\n",
    "    '''\n",
    "    print(\"The selected stack is a .tif\")\n",
    "    dataset = Image.open(film_addr)\n",
    "    h,w = np.shape(dataset)\n",
    "    folder_film = film_addr[:-4]\n",
    "    #os.mkdir(folder_film)\n",
    "    #for i in range(dataset.n_frames):\n",
    "    addr_img = str(Path(folder_film) / f\"frame{num}_small.png\")\n",
    "    print(addr_img)\n",
    "    dataset.seek(num)\n",
    "    img = np.array(dataset).astype(np.double)\n",
    "    #print(\"img.shape \", img.shape)\n",
    "    img = resize_img(img)\n",
    "    plt.savefig( addr_img ) #, dpi=100      # save frame in self.output_folder\n",
    "    return img"
   ]
  },
  {
   "cell_type": "code",
   "execution_count": 4,
   "metadata": {},
   "outputs": [],
   "source": [
    "film_addr = '/media/sdata/docs/boulot/experims/comparaison_tif_2054_png_512_23_nov2020/GrowthRate520191016_84027 PM_f0000.tif'\n",
    "#read_extract_tif(film_addr)"
   ]
  },
  {
   "cell_type": "code",
   "execution_count": 5,
   "metadata": {},
   "outputs": [],
   "source": [
    "film = io.imread(film_addr)"
   ]
  },
  {
   "cell_type": "code",
   "execution_count": null,
   "metadata": {},
   "outputs": [],
   "source": [
    "folder_film = film_addr[:-4]\n",
    "if not os.path.exists(folder_film):\n",
    "    os.mkdir(folder_film)\n",
    "num = 0\n",
    "cv2.imwrite(opj(folder_film, f'frame{num}.tiff'), film[num])"
   ]
  },
  {
   "cell_type": "code",
   "execution_count": null,
   "metadata": {},
   "outputs": [],
   "source": [
    "img0 = read_extract_tif(film_addr, num)"
   ]
  },
  {
   "cell_type": "code",
   "execution_count": null,
   "metadata": {},
   "outputs": [],
   "source": [
    "opj(opd(film_addr[:-4]))+'.tiff'"
   ]
  },
  {
   "cell_type": "code",
   "execution_count": null,
   "metadata": {},
   "outputs": [],
   "source": [
    "film.shape"
   ]
  },
  {
   "cell_type": "code",
   "execution_count": null,
   "metadata": {},
   "outputs": [],
   "source": [
    "film[0].sum()/film[0].size"
   ]
  },
  {
   "cell_type": "code",
   "execution_count": null,
   "metadata": {},
   "outputs": [],
   "source": [
    "film[0].size"
   ]
  },
  {
   "cell_type": "code",
   "execution_count": null,
   "metadata": {},
   "outputs": [],
   "source": [
    "film[0].dtype"
   ]
  },
  {
   "cell_type": "code",
   "execution_count": null,
   "metadata": {},
   "outputs": [],
   "source": [
    "img0.sum()/img0.size"
   ]
  },
  {
   "cell_type": "code",
   "execution_count": null,
   "metadata": {},
   "outputs": [],
   "source": [
    "img0.mean()"
   ]
  },
  {
   "cell_type": "code",
   "execution_count": null,
   "metadata": {},
   "outputs": [],
   "source": [
    "img0.size"
   ]
  },
  {
   "cell_type": "code",
   "execution_count": null,
   "metadata": {},
   "outputs": [],
   "source": [
    "skio_img0 = io.imread(opj(film_addr[:-4], 'frame0_small.png'))"
   ]
  },
  {
   "cell_type": "code",
   "execution_count": null,
   "metadata": {},
   "outputs": [],
   "source": [
    "skio_img0.shape"
   ]
  },
  {
   "cell_type": "code",
   "execution_count": null,
   "metadata": {},
   "outputs": [],
   "source": [
    "skio_img0.sum()/skio_img0.size"
   ]
  },
  {
   "cell_type": "code",
   "execution_count": null,
   "metadata": {},
   "outputs": [],
   "source": [
    "skio_img0.size"
   ]
  },
  {
   "cell_type": "code",
   "execution_count": null,
   "metadata": {},
   "outputs": [],
   "source": [
    "skio_img0.mean()"
   ]
  },
  {
   "cell_type": "code",
   "execution_count": null,
   "metadata": {},
   "outputs": [],
   "source": [
    "skio_img0.std()"
   ]
  },
  {
   "cell_type": "code",
   "execution_count": null,
   "metadata": {},
   "outputs": [],
   "source": [
    "13786/4"
   ]
  },
  {
   "cell_type": "code",
   "execution_count": null,
   "metadata": {},
   "outputs": [],
   "source": [
    "skio_img0.dtype"
   ]
  },
  {
   "cell_type": "code",
   "execution_count": null,
   "metadata": {},
   "outputs": [],
   "source": [
    "skio_img0 = io.imread(opj(film_addr[:-4], 'frame0_small.tiff'))"
   ]
  },
  {
   "cell_type": "code",
   "execution_count": null,
   "metadata": {},
   "outputs": [],
   "source": [
    "skio_img0.dtype"
   ]
  },
  {
   "cell_type": "code",
   "execution_count": 2,
   "metadata": {},
   "outputs": [
    {
     "ename": "NameError",
     "evalue": "name 'film_addr' is not defined",
     "output_type": "error",
     "traceback": [
      "\u001b[0;31m---------------------------------------------------------------------------\u001b[0m",
      "\u001b[0;31mNameError\u001b[0m                                 Traceback (most recent call last)",
      "\u001b[0;32m<ipython-input-2-533caed94dfa>\u001b[0m in \u001b[0;36m<module>\u001b[0;34m\u001b[0m\n\u001b[0;32m----> 1\u001b[0;31m \u001b[0mcv2_img0\u001b[0m \u001b[0;34m=\u001b[0m \u001b[0mcv2\u001b[0m\u001b[0;34m.\u001b[0m\u001b[0mimread\u001b[0m\u001b[0;34m(\u001b[0m\u001b[0mopj\u001b[0m\u001b[0;34m(\u001b[0m\u001b[0mfilm_addr\u001b[0m\u001b[0;34m[\u001b[0m\u001b[0;34m:\u001b[0m\u001b[0;34m-\u001b[0m\u001b[0;36m4\u001b[0m\u001b[0;34m]\u001b[0m\u001b[0;34m,\u001b[0m \u001b[0;34m'frame0.tiff'\u001b[0m\u001b[0;34m)\u001b[0m\u001b[0;34m)\u001b[0m\u001b[0;34m\u001b[0m\u001b[0;34m\u001b[0m\u001b[0m\n\u001b[0m",
      "\u001b[0;31mNameError\u001b[0m: name 'film_addr' is not defined"
     ]
    }
   ],
   "source": [
    "cv2_img0 = cv2.imread(opj(film_addr[:-4], 'frame0.tiff'))"
   ]
  },
  {
   "cell_type": "code",
   "execution_count": null,
   "metadata": {},
   "outputs": [],
   "source": [
    "opj(film_addr[:-4], 'frame0.tiff')"
   ]
  },
  {
   "cell_type": "code",
   "execution_count": null,
   "metadata": {},
   "outputs": [],
   "source": [
    "cv2_img0.dtype"
   ]
  },
  {
   "cell_type": "code",
   "execution_count": null,
   "metadata": {},
   "outputs": [],
   "source": [
    "cv2_img0.mean()"
   ]
  },
  {
   "cell_type": "code",
   "execution_count": null,
   "metadata": {},
   "outputs": [],
   "source": [
    "cv2_img0.std()"
   ]
  },
  {
   "cell_type": "code",
   "execution_count": null,
   "metadata": {},
   "outputs": [],
   "source": [
    "cntrs_pkl = \"pkl_cntrs_pred_GrowthRate520191016_84027_PM_f0000_movie_cleaned_BF_training-cell_v3-ep5-bs4-fl_date04-10-2020-13-18_sp5_21-11-2020-23-50.pkl\"\n",
    "cntrs = pkl.load(open(opj(opd(film_addr),cntrs_pkl),'rb'))"
   ]
  },
  {
   "cell_type": "code",
   "execution_count": null,
   "metadata": {},
   "outputs": [],
   "source": [
    "cntrs"
   ]
  },
  {
   "cell_type": "code",
   "execution_count": null,
   "metadata": {},
   "outputs": [],
   "source": [
    "%matplotlib\n",
    "img = cv2.drawContours(cv2_img0, cntrs[0], -1, (255, 255, 255), -1)\n",
    "plt.imshow(img)"
   ]
  },
  {
   "cell_type": "code",
   "execution_count": null,
   "metadata": {},
   "outputs": [],
   "source": [
    "new_cntrs = [4*lc for lc in cntrs[0]]"
   ]
  },
  {
   "cell_type": "code",
   "execution_count": null,
   "metadata": {},
   "outputs": [],
   "source": [
    "new_cntrs"
   ]
  },
  {
   "cell_type": "code",
   "execution_count": null,
   "metadata": {},
   "outputs": [],
   "source": [
    "%matplotlib\n",
    "img = cv2.drawContours(cv2_img0, new_cntrs, -1, (255, 255, 255), -1)\n",
    "plt.imshow(img)"
   ]
  },
  {
   "cell_type": "code",
   "execution_count": null,
   "metadata": {},
   "outputs": [],
   "source": [
    "cntrs_pkl = \"pkl_cntrs_pred_GrowthRate520191016_84027_PM_f0000_movie_cleaned_BF_training-cell_v3-ep5-bs4-fl_date04-10-2020-13-18_sp5_21-11-2020-23-50.pkl\"\n",
    "cntrs = pkl.load(open(opj(opd(film_addr),cntrs_pkl),'rb'))\n",
    "new_cntrs = { k : 16*lc[0] for k,lc in cntrs.items() }"
   ]
  },
  {
   "cell_type": "code",
   "execution_count": null,
   "metadata": {},
   "outputs": [],
   "source": [
    "new_cntrs"
   ]
  },
  {
   "cell_type": "code",
   "execution_count": null,
   "metadata": {},
   "outputs": [],
   "source": [
    "folder_film = film_addr[:-4]\n",
    "if not os.path.exists(folder_film):\n",
    "    os.mkdir(folder_film)\n",
    "num = 0\n",
    "io.imsave(opj(folder_film, f'frame{num}_io.tiff'), film[num])"
   ]
  },
  {
   "cell_type": "code",
   "execution_count": null,
   "metadata": {},
   "outputs": [],
   "source": [
    "img0_io = io.imread(opj(film_addr[:-4], 'frame0_io.tiff'))"
   ]
  },
  {
   "cell_type": "code",
   "execution_count": null,
   "metadata": {},
   "outputs": [],
   "source": [
    "img0_io.dtype"
   ]
  },
  {
   "cell_type": "code",
   "execution_count": null,
   "metadata": {},
   "outputs": [],
   "source": [
    "img0_io.std()"
   ]
  },
  {
   "cell_type": "code",
   "execution_count": null,
   "metadata": {},
   "outputs": [],
   "source": [
    "%matplotlib\n",
    "img = cv2.drawContours(img0_io, new_cntrs, -1, (255, 255, 255), -1)\n",
    "plt.imshow(img)"
   ]
  },
  {
   "cell_type": "code",
   "execution_count": 7,
   "metadata": {},
   "outputs": [
    {
     "name": "stdout",
     "output_type": "stream",
     "text": [
      "Using matplotlib backend: Qt5Agg\n"
     ]
    },
    {
     "data": {
      "text/plain": [
       "<matplotlib.image.AxesImage at 0x7f7c7bbbfd90>"
      ]
     },
     "execution_count": 7,
     "metadata": {},
     "output_type": "execute_result"
    }
   ],
   "source": [
    "%matplotlib\n",
    "cntrs_pkl = \"pkl_cntrs_pred_GrowthRate520191016_84027_PM_f0000_movie_cleaned_BF_training-cell_v3-ep5-bs4-fl_date04-10-2020-13-18_sp5_21-11-2020-23-50.pkl\"\n",
    "cntrs = pkl.load(open(opj(opd(film_addr),cntrs_pkl),'rb'))\n",
    "new_cntrs = [4*lc for lc in cntrs[0]]\n",
    "img = film[0]\n",
    "##\n",
    "img = cv2.drawContours(img, new_cntrs, -1, (255, 255, 255), -1)\n",
    "plt.imshow(img)"
   ]
  },
  {
   "cell_type": "code",
   "execution_count": null,
   "metadata": {},
   "outputs": [],
   "source": []
  }
 ],
 "metadata": {
  "kernelspec": {
   "display_name": "Python 3",
   "language": "python",
   "name": "python3"
  },
  "language_info": {
   "codemirror_mode": {
    "name": "ipython",
    "version": 3
   },
   "file_extension": ".py",
   "mimetype": "text/x-python",
   "name": "python",
   "nbconvert_exporter": "python",
   "pygments_lexer": "ipython3",
   "version": "3.7.6"
  }
 },
 "nbformat": 4,
 "nbformat_minor": 4
}
