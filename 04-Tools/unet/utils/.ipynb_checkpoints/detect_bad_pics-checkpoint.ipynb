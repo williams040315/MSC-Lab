{
 "cells": [
  {
   "cell_type": "code",
   "execution_count": 6,
   "metadata": {},
   "outputs": [
    {
     "name": "stdout",
     "output_type": "stream",
     "text": [
      "Using matplotlib backend: Qt5Agg\n",
      "/home/meglio/Bureau/git/Tools/unet\n"
     ]
    }
   ],
   "source": [
    "%matplotlib\n",
    "import os, sys, re\n",
    "op = os.path\n",
    "opd, opb, opj = op.dirname, op.basename, op.join\n",
    "opa = op.abspath\n",
    "import inspect as insp\n",
    "from pathlib import Path\n",
    "from PIL import Image\n",
    "import numpy as np\n",
    "from scipy.optimize import curve_fit\n",
    "\n",
    "from matplotlib import pyplot as plt\n",
    "\n",
    "import cv2\n",
    "##\n",
    "\n",
    "currdir = opd(opa(insp.getfile(insp.currentframe()))) # current dir at level above.. \n",
    "parentdir = opd(currdir)\n",
    "sys.path.insert(0,parentdir) \n",
    "print(parentdir)"
   ]
  },
  {
   "cell_type": "code",
   "execution_count": 2,
   "metadata": {},
   "outputs": [],
   "source": [
    "from utils.find_bad_pics import FIND_BAD_PICS as FB\n",
    "fb = FB()"
   ]
  },
  {
   "cell_type": "code",
   "execution_count": 3,
   "metadata": {},
   "outputs": [],
   "source": [
    "ext = 'png'\n",
    "#fold = str(Path(dir0) / f0[:-4])\n",
    "#fold = '/home/meglio/Bureau/data/proc_09-11-2020-14-22/movie'\n",
    "dir_data = '/media/meglio/Seagate Expansion Drive/Curie/data_Celine/data_3nov2020'\n",
    "dir_exp = 'Exp82_09112019/GrowthRate2320190911_55048 PM_20190912_54806 AM'\n",
    "BF_folder = 'GrowthRate2320190911_55048 PM_f0000/BF'\n",
    "fold = str( Path(dir_data) / dir_exp / BF_folder )"
   ]
  },
  {
   "cell_type": "code",
   "execution_count": 4,
   "metadata": {},
   "outputs": [
    {
     "name": "stdout",
     "output_type": "stream",
     "text": [
      "indices of bad images for blurriness are : [43, 47, 48, 52, 63, 65, 74, 76, 79, 81, 82, 83, 84, 86, 89, 90, 91, 92, 94, 97, 98, 101, 107, 108, 110, 114]\n",
      "[43, 47, 48, 52, 63, 65, 74, 76, 79, 81, 82, 83, 84, 86, 89, 90, 91, 92, 94, 97, 98, 101, 107, 108, 110, 114]\n",
      "indices of bad images for contrast are : [0, 8, 36, 37, 72, 73, 75, 85, 93, 100, 102, 104, 106, 116, 119]\n",
      "[0, 8, 36, 37, 72, 73, 75, 85, 93, 100, 102, 104, 106, 116, 119]\n"
     ]
    }
   ],
   "source": [
    "fb.find_bad_pics_in_folder(fold, kind='blurriness', ext=ext, margin_down=15)  # find indices of blurry pics\n",
    "print(fb.ind_bad_pics)\n",
    "fb.find_bad_pics_in_folder(fold, kind='contrast', ext=ext, margin_down=5)     # find indices of low contrast pics\n",
    "print(fb.ind_bad_pics)"
   ]
  },
  {
   "cell_type": "code",
   "execution_count": null,
   "metadata": {},
   "outputs": [],
   "source": [
    "[3, 4, 14, 27, 43, 45, 46, 47, 48, 52, 63, 65, 76, 79, 80, 81, 82, 83, 89, 91, 92, 94, 97, 107, 108, 110, 114]"
   ]
  },
  {
   "cell_type": "code",
   "execution_count": null,
   "metadata": {},
   "outputs": [],
   "source": [
    "[43, 47, 48, 52, 63, 65, 74, 76, 79, 81, 82, 83, 84, 86, 89, 90, 91, 92, 94, 97, 98, 101, 107, 108, 110, 114]"
   ]
  },
  {
   "cell_type": "markdown",
   "metadata": {},
   "source": [
    "## test blurriness score"
   ]
  },
  {
   "cell_type": "code",
   "execution_count": null,
   "metadata": {},
   "outputs": [],
   "source": [
    "ll = []\n",
    "ext = 'png'\n",
    "for i in range(40,50):\n",
    "    #fb.estimate_blurry(, show_score=True)\n",
    "    addr_img = Path(fold)/f'frame{i}.{ext}'\n",
    "    img = np.abs(Image.open(addr_img))\n",
    "    fb.make_blur_score(img)\n",
    "    print(f'{i}, {fb.quality_score}')\n",
    "#print(fb.list_quality_scores)\n",
    "#plt.figure()\n",
    "#plt.plot(ll)"
   ]
  },
  {
   "cell_type": "code",
   "execution_count": 10,
   "metadata": {},
   "outputs": [
    {
     "name": "stdout",
     "output_type": "stream",
     "text": [
      "3.9329743803751427\n"
     ]
    }
   ],
   "source": [
    "xdata = np.arange(len(fb.list_quality_scores))\n",
    "popt, pcov = curve_fit(fb.func_fit_quality, xdata , fb.list_quality_scores)  # fit\n",
    "ydata = np.array(fb.func_fit_quality(xdata, *popt))\n",
    "diff = ydata - fb.list_quality_scores\n",
    "diffstd = diff.std()\n",
    "#print(diff)\n",
    "print(diff.std())"
   ]
  },
  {
   "cell_type": "code",
   "execution_count": 47,
   "metadata": {},
   "outputs": [],
   "source": [
    "fact = 0.5\n",
    "down_lim = fact*diffstd \n",
    "ll = [i for i,d in enumerate(diff) if d<0 and np.abs(d)>down_lim] #d<0 and"
   ]
  },
  {
   "cell_type": "code",
   "execution_count": 48,
   "metadata": {},
   "outputs": [
    {
     "name": "stdout",
     "output_type": "stream",
     "text": [
      "[3, 4, 12, 14, 19, 21, 27, 39, 43, 45, 46, 47, 48, 50, 52, 55, 59, 63, 65, 74, 76, 78, 79, 80, 81, 82, 83, 84, 86, 89, 90, 91, 92, 94, 97, 98, 101, 105, 107, 108, 110, 114, 115]\n"
     ]
    }
   ],
   "source": [
    "print(ll)\n",
    "print(len(ll))"
   ]
  },
  {
   "cell_type": "code",
   "execution_count": 49,
   "metadata": {},
   "outputs": [
    {
     "data": {
      "text/plain": [
       "(-7.865948760750285, 7.865948760750285)"
      ]
     },
     "execution_count": 49,
     "metadata": {},
     "output_type": "execute_result"
    }
   ],
   "source": [
    "plt.plot(diff, 'kx')\n",
    "plt.plot([0,120],[-down_lim,-down_lim], 'b--')\n",
    "plt.xlim(0,len(diff))\n",
    "plt.ylim(-2*diffstd,2*diffstd)"
   ]
  },
  {
   "cell_type": "code",
   "execution_count": null,
   "metadata": {},
   "outputs": [],
   "source": []
  }
 ],
 "metadata": {
  "kernelspec": {
   "display_name": "Python 3",
   "language": "python",
   "name": "python3"
  },
  "language_info": {
   "codemirror_mode": {
    "name": "ipython",
    "version": 3
   },
   "file_extension": ".py",
   "mimetype": "text/x-python",
   "name": "python",
   "nbconvert_exporter": "python",
   "pygments_lexer": "ipython3",
   "version": "3.7.6"
  }
 },
 "nbformat": 4,
 "nbformat_minor": 4
}
