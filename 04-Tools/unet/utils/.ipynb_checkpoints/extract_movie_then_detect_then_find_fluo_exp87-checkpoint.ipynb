{
 "cells": [
  {
   "cell_type": "code",
   "execution_count": 1,
   "metadata": {},
   "outputs": [
    {
     "name": "stdout",
     "output_type": "stream",
     "text": [
      "/home/meglio/Bureau/git/Tools/unet\n"
     ]
    }
   ],
   "source": [
    "#%matplotlib\n",
    "import os, sys, glob, re, json\n",
    "op = os.path\n",
    "opd, opb, opj = op.dirname, op.basename, op.join\n",
    "opa = op.abspath\n",
    "import shutil as sh\n",
    "from time import time\n",
    "import inspect as insp\n",
    "from pathlib import Path\n",
    "from PIL import Image\n",
    "import numpy as np\n",
    "from skimage import io\n",
    "##\n",
    "from matplotlib import pyplot as plt\n",
    "##\n",
    "import cv2\n",
    "##\n",
    "currdir = opd(opa(insp.getfile(insp.currentframe()))) # current dir at level above.. \n",
    "parentdir = opd(currdir)\n",
    "sys.path.insert(0,parentdir) \n",
    "print(parentdir)\n",
    "\n",
    "from utils.sep_tif_layers import SEP_TIF_LAYERS as STL\n",
    "from analyse_results import ANALYSE_RESULTS as AR\n",
    "from modules_unet.util import UTIL \n",
    "ut = UTIL()"
   ]
  },
  {
   "cell_type": "code",
   "execution_count": 2,
   "metadata": {},
   "outputs": [],
   "source": [
    "dir_data = '/media/meglio/Seagate Expansion Drive/Curie/data_Celine/data_3nov2020'\n",
    "dir_exp = 'Exp87_101619/GrowthRate520191016_84027_PM_20191017_83859_AM' "
   ]
  },
  {
   "cell_type": "raw",
   "metadata": {},
   "source": [
    "dest = f'/home/meglio/Bureau/data/Exp87_extract_{ut.date()}'   # Destination\n",
    "print(dest)"
   ]
  },
  {
   "cell_type": "raw",
   "metadata": {},
   "source": [
    "# merge t000000 and t000001\n",
    "tmerge0 = time()\n",
    "for i in range(25):\n",
    "    numf = f'0{i}' if i<10 else f'{i}'\n",
    "    f0 = f'GrowthRate520191016_84027 PM_f00{numf}_t000000.tif'\n",
    "    f1 = f'GrowthRate520191016_84027 PM_f00{numf}_t000001.tif'\n",
    "    addr0 = dir_data + '/' + dir_exp + '/' + f0\n",
    "    addr1 = dir_data + '/' + dir_exp + '/' + f1\n",
    "    stl = STL(\"a\",\"b\")\n",
    "    stl.add_tif(addr0, addr1)\n",
    "tmerge1 = time()\n",
    "print(f\"time elapsed is {(tmerge0-tmerge1)/60} min\")"
   ]
  },
  {
   "cell_type": "raw",
   "metadata": {},
   "source": [
    "# extract BF, fluo1 and fluo2\n",
    "tt0 = time()                                      # total time\n",
    "      \n",
    "for i in range(25):\n",
    "    t0_extract = time()           # time for extract \n",
    "    numf = f'0{i}' if i<10 else f'{i}'\n",
    "    f0 = f'GrowthRate520191016_84027 PM_f00{numf}.tif'\n",
    "    addr0 = opj(dir_data, dir_exp, f0)\n",
    "    stl = STL(addr0,dest)\n",
    "    stl.list_layers = ['BF','fluo1','fluo2']\n",
    "    stl.extract_all_layers(rem_bad_pics=True, keep_ref_vid=True)\n",
    "    stl.cp_to_dest() # copy to destination\n",
    "    t1_extract = time()\n",
    "    print(f\"time elapsed for extract is {(t1_extract-t0_extract)/60} min\")"
   ]
  },
  {
   "cell_type": "raw",
   "metadata": {},
   "source": [
    "dest = '/home/meglio/Bureau/data/Exp87_extract_25-11-2020-17-17'\n",
    "for n in range(25):\n",
    "    numf = f'0{n}' if n<10 else f'{n}'\n",
    "    for f in glob.glob(dest + f'/*f00{numf}/*cleaned_BF.avi'):\n",
    "        tproc0 = time()\n",
    "        root = opd(f)\n",
    "        addr_BF = f\n",
    "        ! cd ..; python detect_cells.py -f $addr_BF -m ep5_v3 \\\n",
    "           --video --track all --num_cell --save_in $root\n",
    "        tproc1 = time()\n",
    "        print(f\"time elapsed is {(tproc1-tproc0)/60} min\")\n",
    "        print('###################################')\n",
    "        print('###################################')\n",
    "        print('###################################')"
   ]
  },
  {
   "cell_type": "raw",
   "metadata": {},
   "source": [
    "for addr_cntrs in glob.glob(dest + '/*/processings/proc_*-*/pkl_cntrs_[!pred]*'):\n",
    "    ar = AR(addr_cntrs)\n",
    "    ar.cells().count()\n",
    "    print(ar.nb_cells)\n",
    "    ar.plot()"
   ]
  },
  {
   "cell_type": "code",
   "execution_count": null,
   "metadata": {},
   "outputs": [],
   "source": [
    "#dest = '/home/meglio/Bureau/data/Exp87_extract_21-11-2020-23-48'\n",
    "dest = '/home/meglio/Bureau/data/Exp87_extract_25-11-2020-17-17'\n",
    "l0 = glob.glob(dest + '/*/processings/proc_*-*/pkl_cntrs_[!pred]*')\n",
    "l0_sorted = sorted(l0, key= lambda elem : int(re.findall('f00(\\\\d+)', elem)[0]))\n",
    "##\n",
    "\n",
    "num = 4\n",
    "\n",
    "##\n",
    "numf = f'0{num}' if num<10 else f'{num}'\n",
    "addr_cntrs = l0_sorted[num]\n",
    "addr_fluo = dest + f'/GrowthRate520191016_84027_PM_f00{numf}'\n",
    "\n",
    "addr_tif = opj(dir_data, dir_exp, f'GrowthRate520191016_84027 PM_f00{numf}.tif')\n",
    "print(f'addr_cntrs is {addr_cntrs}')\n",
    "print(f'addr_fluo is {addr_fluo}')"
   ]
  },
  {
   "cell_type": "code",
   "execution_count": null,
   "metadata": {
    "scrolled": true
   },
   "outputs": [],
   "source": [
    "# evolution of the normalized global fluorescence\n",
    "tload0 = time()\n",
    "ar = AR(addr_cntrs, addr_tif, addr_fluo, nb_fluo=2, load_fluo='1', ext='png')\n",
    "tload1 = time()\n",
    "print(f'time elapsed is {(tload1-tload0)/60} min')"
   ]
  },
  {
   "cell_type": "markdown",
   "metadata": {},
   "source": [
    "## Test contours size"
   ]
  },
  {
   "cell_type": "code",
   "execution_count": null,
   "metadata": {},
   "outputs": [],
   "source": [
    "%matplotlib\n",
    "ar.test_contours_with_BF(119)"
   ]
  },
  {
   "cell_type": "markdown",
   "metadata": {},
   "source": [
    "## Fluo evolution of all the cells"
   ]
  },
  {
   "cell_type": "code",
   "execution_count": null,
   "metadata": {
    "scrolled": false
   },
   "outputs": [],
   "source": [
    "%matplotlib\n",
    "ar.fluo_in_images(col='1').plot()"
   ]
  },
  {
   "cell_type": "code",
   "execution_count": null,
   "metadata": {},
   "outputs": [],
   "source": [
    "ar.count()\n",
    "print(ar.nb_cells[119])"
   ]
  },
  {
   "cell_type": "code",
   "execution_count": null,
   "metadata": {},
   "outputs": [],
   "source": [
    "len(ar.cntrs)"
   ]
  },
  {
   "cell_type": "markdown",
   "metadata": {},
   "source": [
    "## Correct traj"
   ]
  },
  {
   "cell_type": "code",
   "execution_count": null,
   "metadata": {},
   "outputs": [],
   "source": [
    "ar.list_correct_tracks()\n",
    "print(ar.correct_tracks)"
   ]
  },
  {
   "cell_type": "code",
   "execution_count": null,
   "metadata": {},
   "outputs": [],
   "source": [
    "print(len(ar.correct_tracks))"
   ]
  },
  {
   "cell_type": "markdown",
   "metadata": {},
   "source": [
    "## Fluo for each cell"
   ]
  },
  {
   "cell_type": "code",
   "execution_count": null,
   "metadata": {},
   "outputs": [],
   "source": [
    "%matplotlib\n",
    "for i in ar.correct_tracks:\n",
    "    ar.cell(i).fluos('sum','1',norm=True).plot(ylim=[0,500])"
   ]
  },
  {
   "cell_type": "code",
   "execution_count": null,
   "metadata": {},
   "outputs": [],
   "source": [
    "ar.cell(10).fluos('sum','1',norm=True).plot(ylim=[0,500])"
   ]
  },
  {
   "cell_type": "code",
   "execution_count": null,
   "metadata": {
    "scrolled": true
   },
   "outputs": [],
   "source": [
    "ar.ylabel"
   ]
  },
  {
   "cell_type": "markdown",
   "metadata": {},
   "source": [
    "## Area"
   ]
  },
  {
   "cell_type": "code",
   "execution_count": null,
   "metadata": {},
   "outputs": [],
   "source": [
    "for i in ar.correct_tracks:\n",
    "    ar.cell(i).areas().plot(ylim=[0,3000])"
   ]
  },
  {
   "cell_type": "code",
   "execution_count": null,
   "metadata": {},
   "outputs": [],
   "source": [
    "low = 0\n",
    "for numcell in range(low, low+10):\n",
    "    try:\n",
    "        plt.figure()\n",
    "        ar.cell(numcell).track().plot(xlim=[0,512],ylim=[0,512])\n",
    "    except:\n",
    "        pass"
   ]
  },
  {
   "cell_type": "markdown",
   "metadata": {},
   "source": [
    "## extract tif layers"
   ]
  },
  {
   "cell_type": "raw",
   "metadata": {},
   "source": [
    "for i in range(1,25):\n",
    "    print(i)\n",
    "    tlayt0 = time()\n",
    "    numf = f'0{i}' if i<10 else f'{i}'\n",
    "    f0 = f'GrowthRate520191016_84027 PM_f00{numf}.tif'\n",
    "    addr0 = dir_data + '/' + dir_exp + '/' + f0\n",
    "    stl = STL(addr0,dest)\n",
    "    stl.list_layers = ['BF','fluo1','fluo2']\n",
    "    stl.extract_tif_layers()\n",
    "    tlayt1 = time()\n",
    "    print(f'time elapsed is {(tlayt1-tlayt0)/60} min')\n"
   ]
  },
  {
   "cell_type": "code",
   "execution_count": null,
   "metadata": {},
   "outputs": [
    {
     "name": "stdout",
     "output_type": "stream",
     "text": [
      "addr_cntrs is /home/meglio/Bureau/data/Exp87_extract_25-11-2020-17-17/GrowthRate520191016_84027_PM_f0000/processings/proc_25-11-2020-19-11/pkl_cntrs_GrowthRate520191016_84027_PM_f0000_movie_cleaned_BF_training-cell_v3-ep5-bs4-fl_date04-10-2020-13-18_sp5_25-11-2020-19-12.pkl\n",
      "addr_fluo is /home/meglio/Bureau/data/Exp87_extract_25-11-2020-17-17/GrowthRate520191016_84027_PM_f0000\n"
     ]
    }
   ],
   "source": [
    "#dest = '/home/meglio/Bureau/data/Exp87_extract_21-11-2020-23-48'\n",
    "dest = '/home/meglio/Bureau/data/Exp87_extract_25-11-2020-17-17'\n",
    "l0 = glob.glob(dest + '/*/processings/proc_*-*/pkl_cntrs_[!pred]*')\n",
    "l0_sorted = sorted(l0, key= lambda elem : int(re.findall('f00(\\\\d+)', elem)[0]))\n",
    "##\n",
    "addr_all_analyses = opj(dest, f'analyses_{ut.date()}')\n",
    "if not os.path.exists(addr_all_analyses):\n",
    "    os.mkdir(addr_all_analyses)\n",
    "\n",
    "for num in range(25):\n",
    "    tfig0 = time()\n",
    "    numf = f'0{num}' if num<10 else f'{num}'\n",
    "    addr_cntrs = l0_sorted[num]\n",
    "    addr_fluo = dest + f'/GrowthRate520191016_84027_PM_f00{numf}'\n",
    "    ##\n",
    "    addr_analysis = opj(addr_fluo, f'analysis_{num}') # folder for analysis\n",
    "    if not os.path.exists(addr_analysis):\n",
    "        os.mkdir(addr_analysis)\n",
    "    addr_anal_fluo = opj(addr_analysis, 'fluos')\n",
    "    os.mkdir(addr_anal_fluo)\n",
    "    addr_anal_area = opj(addr_analysis, 'areas')\n",
    "    os.mkdir(addr_anal_area)\n",
    "    ##\n",
    "    json_fluo = open(opj(addr_anal_fluo, 'val_fluos.json'), 'w')\n",
    "    json_area = open(opj(addr_anal_area, 'val_areas.json'), 'w')\n",
    "    ##\n",
    "    addr_tif = opj(dir_data, dir_exp, f'GrowthRate520191016_84027 PM_f00{numf}.tif')\n",
    "    print(f'addr_cntrs is {addr_cntrs}')\n",
    "    print(f'addr_fluo is {addr_fluo}')\n",
    "    \n",
    "    # evolution of the normalized global fluorescence\n",
    "    tload0 = time()\n",
    "    ar = AR(addr_cntrs, addr_tif, addr_fluo, nb_fluo=2, load_fluo='1', ext='png')\n",
    "    tload1 = time()\n",
    "    print(f'time elapsed is {(tload1-tload0)/60} min')\n",
    "    ##\n",
    "    ##\n",
    "    %matplotlib\n",
    "    ar.fluo_in_images(col='1').plot()                            # global fluo\n",
    "    plt.savefig(opj(addr_anal_fluo, 'evol_global_fluo.jpg'))\n",
    "    ar.list_correct_tracks()                                     # keep only the good tracks\n",
    "    lfluo_gen = (np.round(ar.curr_obs,1)).tolist()\n",
    "    json.dump({'global':lfluo_gen}, json_fluo)\n",
    "    for i in ar.correct_tracks:\n",
    "        fig = plt.figure()\n",
    "        ar.cell(i).fluos('sum','1',norm=True).plot(ylim=[0,500])  # individual fluo\n",
    "        plt.savefig(opj(addr_anal_fluo, f'evol_fluo{i}.jpg'))\n",
    "        lfluo = (np.round(ar.curr_obs,1)).tolist()\n",
    "        json.dump({i:lfluo}, json_fluo)\n",
    "        plt.close(fig)\n",
    "    for i in ar.correct_tracks:\n",
    "        fig = plt.figure()\n",
    "        ar.cell(i).areas().plot(ylim=[0,3000])   # surface\n",
    "        plt.savefig(opj(addr_anal_area, f'evol_area{i}.jpg'))\n",
    "        larea = (np.round(ar.curr_obs,1)).tolist()\n",
    "        json.dump({i:larea}, json_area)\n",
    "        plt.close(fig)\n",
    "    tfig1 = time()\n",
    "    print(f'time elapsed is {(tfig1-tfig0)/60} min')\n",
    "    sh.move(addr_analysis,addr_all_analyses)\n",
    "json_fluo.close()\n",
    "json_area.close()"
   ]
  },
  {
   "cell_type": "code",
   "execution_count": null,
   "metadata": {},
   "outputs": [],
   "source": [
    "lfluo_gen"
   ]
  },
  {
   "cell_type": "code",
   "execution_count": null,
   "metadata": {},
   "outputs": [],
   "source": []
  }
 ],
 "metadata": {
  "kernelspec": {
   "display_name": "Python 3",
   "language": "python",
   "name": "python3"
  },
  "language_info": {
   "codemirror_mode": {
    "name": "ipython",
    "version": 3
   },
   "file_extension": ".py",
   "mimetype": "text/x-python",
   "name": "python",
   "nbconvert_exporter": "python",
   "pygments_lexer": "ipython3",
   "version": "3.7.6"
  }
 },
 "nbformat": 4,
 "nbformat_minor": 4
}
