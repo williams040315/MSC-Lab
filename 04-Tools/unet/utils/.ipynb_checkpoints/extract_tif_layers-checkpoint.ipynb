{
 "cells": [
  {
   "cell_type": "code",
   "execution_count": 1,
   "metadata": {},
   "outputs": [
    {
     "name": "stdout",
     "output_type": "stream",
     "text": [
      "Using matplotlib backend: Qt5Agg\n",
      "/home/meglio/Bureau/git/Tools/unet\n"
     ]
    }
   ],
   "source": [
    "%matplotlib\n",
    "import os, sys\n",
    "op = os.path\n",
    "opd, opb, opj = op.dirname, op.basename, op.join\n",
    "opa = op.abspath\n",
    "import inspect as insp\n",
    "from pathlib import Path\n",
    "from PIL import Image\n",
    "import numpy as np\n",
    "\n",
    "from matplotlib import pyplot as plt\n",
    "\n",
    "import cv2\n",
    "##\n",
    "\n",
    "currdir = opd(opa(insp.getfile(insp.currentframe()))) # current dir at level above.. \n",
    "parentdir = opd(currdir)\n",
    "sys.path.insert(0,parentdir) \n",
    "print(parentdir)\n",
    "\n",
    "from utils.sep_tif_layers import SEP_TIF_LAYERS"
   ]
  },
  {
   "cell_type": "code",
   "execution_count": 2,
   "metadata": {},
   "outputs": [],
   "source": [
    "#dir0 = \"C:\\\\Users\\\\Lionel\\\\Desktop\\\\data\\\\data_Celine\\\\Exp79_09042019\\\\GrowthRate2020190904_43544 PM_20190905_43347 AM\"\n",
    "#f0 = 'GrowthRate2020190904_43544 PM_f0000_t000001.tif'\n",
    "#dir0 = '/media/meglio/E320-769E/data_Celine/data_3nov2020/exp102/Image_Stacks'\n",
    "#f0 = 'BF_f0000.tif'\n",
    "#dir0 = '/media/meglio/E320-769E/data_Celine/data_3nov2020/Exp74_07232019/GrowthRate420190723_52103 PM_20190724_51918 AM'\n",
    "#f0 = 'GrowthRate420190723_52103 PM_f0000_t000000.tif'\n",
    "#dir0 = '/media/meglio/E320-769E/data_Celine/data_3nov2020/Exp87_101619/GrowthRate520191016_84027 PM_20191017_83859 AM'\n",
    "#f0 = 'GrowthRate520191016_84027 PM_f0000_t000000.tif'\n",
    "#dir0 = '/media/meglio/Seagate Expansion Drive/Curie/data_Celine/data_3nov2020/Exp87_101619/GrowthRate520191016_84027 PM_20191017_83859 AM' \n",
    "#f0 = 'GrowthRate520191016_84027 PM_f0000_t000000.tif'\n",
    "#addr0 = Path(dir0) / f0"
   ]
  },
  {
   "cell_type": "raw",
   "metadata": {},
   "source": [
    "dir_data = '/media/meglio/Seagate Expansion Drive/Curie/data_Celine/data_3nov2020'\n",
    "dir_exp = 'Exp82_09112019/GrowthRate2320190911_55048 PM_20190912_54806 AM'\n",
    "f0 = 'GrowthRate2320190911_55048 PM_f0000.tif'\n",
    "addr0 = Path(dir_data) / dir_exp / f0"
   ]
  },
  {
   "cell_type": "code",
   "execution_count": null,
   "metadata": {},
   "outputs": [],
   "source": [
    "dir_data = '/media/meglio/Seagate/Curie/data_Celine/data_3nov2020'\n",
    "dir_exp = 'Exp100_16092020/GrowthRate1220200916_60331 PM_20200917_100053 AM'\n",
    "f0 = 'GrowthRate1220200916_60331 PM_f0000_t000000.tif'\n",
    "addr0 = Path(dir_data) / dir_exp / f0"
   ]
  },
  {
   "cell_type": "code",
   "execution_count": 3,
   "metadata": {},
   "outputs": [],
   "source": [
    "stl = SEP_TIF_LAYERS(str(addr0))"
   ]
  },
  {
   "cell_type": "raw",
   "metadata": {
    "scrolled": false
   },
   "source": [
    "stl.list_layers = ['BF','fluo1','fluo2']\n",
    "#stl.extract_all_layers()\n",
    "stl.extract_layer('BF',rem_bad_pics=True, clear=False)"
   ]
  },
  {
   "cell_type": "code",
   "execution_count": 6,
   "metadata": {
    "scrolled": true
   },
   "outputs": [
    {
     "name": "stdout",
     "output_type": "stream",
     "text": [
      "self.name_file  GrowthRate2320190911_55048 PM_f0000.tif\n",
      "indices of bad images for blurriness are : []\n",
      "indices of bad images for contrast are : [0, 8, 36, 37, 72, 73, 75, 85, 93, 100, 102, 104, 106, 116, 119]\n",
      " list ll of pics to be removed is [0, 8, 36, 37, 72, 73, 75, 85, 93, 100, 102, 104, 106, 116, 119]\n"
     ]
    }
   ],
   "source": [
    "stl.list_layers = ['BF','fluo1']\n",
    "stl.extract_all_layers(rem_bad_pics=True, keep_ref_vid=True)\n",
    "#stl.extract_layer('BF',rem_bad_pics=False, keep_ref_vid=False)"
   ]
  },
  {
   "cell_type": "code",
   "execution_count": null,
   "metadata": {},
   "outputs": [],
   "source": []
  }
 ],
 "metadata": {
  "kernelspec": {
   "display_name": "Python 3",
   "language": "python",
   "name": "python3"
  },
  "language_info": {
   "codemirror_mode": {
    "name": "ipython",
    "version": 3
   },
   "file_extension": ".py",
   "mimetype": "text/x-python",
   "name": "python",
   "nbconvert_exporter": "python",
   "pygments_lexer": "ipython3",
   "version": "3.7.6"
  }
 },
 "nbformat": 4,
 "nbformat_minor": 4
}
